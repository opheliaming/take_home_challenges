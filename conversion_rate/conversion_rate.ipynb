{
 "cells": [
  {
   "cell_type": "markdown",
   "metadata": {},
   "source": [
    "# Challenge Description:\n",
    "\n",
    "We have data about users who hit our site: whether they converted or not as well as some of their characteristics such as their country, the marketing channel, their age, whether they are repeat users and the number of pages visited during that session (as a proxy for site activity/time spent on site).\n",
    "\n",
    "## Project goal\n",
    "Your project is to:\n",
    "1. Predict conversion rate\n",
    "\n",
    "2. Come up with recommendations for the product team and the marketing team to improve conversion rate"
   ]
  },
  {
   "cell_type": "markdown",
   "metadata": {
    "heading_collapsed": true
   },
   "source": [
    "## Data:\n",
    "\n",
    "Columns:\n",
    "\n",
    "country : user country based on the IP address\n",
    "\n",
    "age : user age. Self-reported at sign-in step\n",
    "\n",
    "new_user : whether the user created the account during this session or had already an account and simply came back to the site\n",
    "\n",
    "source : marketing channel source\n",
    "1. Ads: came to the site by clicking on an advertisement\n",
    "2. Seo: came to the site by clicking on search results\n",
    "3. Direct: came to the site by directly typing the URL on the browser\n",
    "\n",
    "total_pages_visited: number of total pages visited during the session. This is a proxy for time spent on site and engagement during the session.\n",
    "converted: this is our label. 1 means they converted within the session, 0 means they left without buying anything. \n",
    "\n",
    "The company goal is to increase conversion rate: # conversions / total sessions."
   ]
  },
  {
   "cell_type": "markdown",
   "metadata": {},
   "source": [
    "# Data exploration "
   ]
  },
  {
   "cell_type": "code",
   "execution_count": 179,
   "metadata": {},
   "outputs": [],
   "source": [
    "import pandas as pd\n",
    "import seaborn as sns\n",
    "import matplotlib.pyplot as plt\n",
    "\n",
    "import h2o\n",
    "from h2o.frame import H2OFrame\n",
    "from h2o.estimators.random_forest import H2ORandomForestEstimator\n",
    "from h2o.estimators.glm import H2OGeneralizedLinearEstimator\n",
    "from h2o.grid.grid_search import H2OGridSearch"
   ]
  },
  {
   "cell_type": "code",
   "execution_count": 181,
   "metadata": {},
   "outputs": [],
   "source": [
    "data = pd.read_csv('conversion_data.csv')"
   ]
  },
  {
   "cell_type": "markdown",
   "metadata": {},
   "source": [
    "## General exploration"
   ]
  },
  {
   "cell_type": "code",
   "execution_count": 182,
   "metadata": {},
   "outputs": [
    {
     "data": {
      "text/html": [
       "<div>\n",
       "<style scoped>\n",
       "    .dataframe tbody tr th:only-of-type {\n",
       "        vertical-align: middle;\n",
       "    }\n",
       "\n",
       "    .dataframe tbody tr th {\n",
       "        vertical-align: top;\n",
       "    }\n",
       "\n",
       "    .dataframe thead th {\n",
       "        text-align: right;\n",
       "    }\n",
       "</style>\n",
       "<table border=\"1\" class=\"dataframe\">\n",
       "  <thead>\n",
       "    <tr style=\"text-align: right;\">\n",
       "      <th></th>\n",
       "      <th>country</th>\n",
       "      <th>age</th>\n",
       "      <th>new_user</th>\n",
       "      <th>source</th>\n",
       "      <th>total_pages_visited</th>\n",
       "      <th>converted</th>\n",
       "    </tr>\n",
       "  </thead>\n",
       "  <tbody>\n",
       "    <tr>\n",
       "      <th>0</th>\n",
       "      <td>UK</td>\n",
       "      <td>25</td>\n",
       "      <td>1</td>\n",
       "      <td>Ads</td>\n",
       "      <td>1</td>\n",
       "      <td>0</td>\n",
       "    </tr>\n",
       "    <tr>\n",
       "      <th>1</th>\n",
       "      <td>US</td>\n",
       "      <td>23</td>\n",
       "      <td>1</td>\n",
       "      <td>Seo</td>\n",
       "      <td>5</td>\n",
       "      <td>0</td>\n",
       "    </tr>\n",
       "    <tr>\n",
       "      <th>2</th>\n",
       "      <td>US</td>\n",
       "      <td>28</td>\n",
       "      <td>1</td>\n",
       "      <td>Seo</td>\n",
       "      <td>4</td>\n",
       "      <td>0</td>\n",
       "    </tr>\n",
       "    <tr>\n",
       "      <th>3</th>\n",
       "      <td>China</td>\n",
       "      <td>39</td>\n",
       "      <td>1</td>\n",
       "      <td>Seo</td>\n",
       "      <td>5</td>\n",
       "      <td>0</td>\n",
       "    </tr>\n",
       "    <tr>\n",
       "      <th>4</th>\n",
       "      <td>US</td>\n",
       "      <td>30</td>\n",
       "      <td>1</td>\n",
       "      <td>Seo</td>\n",
       "      <td>6</td>\n",
       "      <td>0</td>\n",
       "    </tr>\n",
       "  </tbody>\n",
       "</table>\n",
       "</div>"
      ],
      "text/plain": [
       "  country  age  new_user source  total_pages_visited  converted\n",
       "0      UK   25         1    Ads                    1          0\n",
       "1      US   23         1    Seo                    5          0\n",
       "2      US   28         1    Seo                    4          0\n",
       "3   China   39         1    Seo                    5          0\n",
       "4      US   30         1    Seo                    6          0"
      ]
     },
     "execution_count": 182,
     "metadata": {},
     "output_type": "execute_result"
    }
   ],
   "source": [
    "data.head()"
   ]
  },
  {
   "cell_type": "code",
   "execution_count": 183,
   "metadata": {},
   "outputs": [
    {
     "name": "stdout",
     "output_type": "stream",
     "text": [
      "<class 'pandas.core.frame.DataFrame'>\n",
      "RangeIndex: 316200 entries, 0 to 316199\n",
      "Data columns (total 6 columns):\n",
      "country                316200 non-null object\n",
      "age                    316200 non-null int64\n",
      "new_user               316200 non-null int64\n",
      "source                 316200 non-null object\n",
      "total_pages_visited    316200 non-null int64\n",
      "converted              316200 non-null int64\n",
      "dtypes: int64(4), object(2)\n",
      "memory usage: 14.5+ MB\n"
     ]
    }
   ],
   "source": [
    "data.info()"
   ]
  },
  {
   "cell_type": "code",
   "execution_count": 184,
   "metadata": {
    "scrolled": true
   },
   "outputs": [
    {
     "data": {
      "text/html": [
       "<div>\n",
       "<style scoped>\n",
       "    .dataframe tbody tr th:only-of-type {\n",
       "        vertical-align: middle;\n",
       "    }\n",
       "\n",
       "    .dataframe tbody tr th {\n",
       "        vertical-align: top;\n",
       "    }\n",
       "\n",
       "    .dataframe thead th {\n",
       "        text-align: right;\n",
       "    }\n",
       "</style>\n",
       "<table border=\"1\" class=\"dataframe\">\n",
       "  <thead>\n",
       "    <tr style=\"text-align: right;\">\n",
       "      <th></th>\n",
       "      <th>age</th>\n",
       "      <th>new_user</th>\n",
       "      <th>total_pages_visited</th>\n",
       "      <th>converted</th>\n",
       "    </tr>\n",
       "  </thead>\n",
       "  <tbody>\n",
       "    <tr>\n",
       "      <th>count</th>\n",
       "      <td>316200.000000</td>\n",
       "      <td>316200.000000</td>\n",
       "      <td>316200.000000</td>\n",
       "      <td>316200.000000</td>\n",
       "    </tr>\n",
       "    <tr>\n",
       "      <th>mean</th>\n",
       "      <td>30.569858</td>\n",
       "      <td>0.685465</td>\n",
       "      <td>4.872966</td>\n",
       "      <td>0.032258</td>\n",
       "    </tr>\n",
       "    <tr>\n",
       "      <th>std</th>\n",
       "      <td>8.271802</td>\n",
       "      <td>0.464331</td>\n",
       "      <td>3.341104</td>\n",
       "      <td>0.176685</td>\n",
       "    </tr>\n",
       "    <tr>\n",
       "      <th>min</th>\n",
       "      <td>17.000000</td>\n",
       "      <td>0.000000</td>\n",
       "      <td>1.000000</td>\n",
       "      <td>0.000000</td>\n",
       "    </tr>\n",
       "    <tr>\n",
       "      <th>25%</th>\n",
       "      <td>24.000000</td>\n",
       "      <td>0.000000</td>\n",
       "      <td>2.000000</td>\n",
       "      <td>0.000000</td>\n",
       "    </tr>\n",
       "    <tr>\n",
       "      <th>50%</th>\n",
       "      <td>30.000000</td>\n",
       "      <td>1.000000</td>\n",
       "      <td>4.000000</td>\n",
       "      <td>0.000000</td>\n",
       "    </tr>\n",
       "    <tr>\n",
       "      <th>75%</th>\n",
       "      <td>36.000000</td>\n",
       "      <td>1.000000</td>\n",
       "      <td>7.000000</td>\n",
       "      <td>0.000000</td>\n",
       "    </tr>\n",
       "    <tr>\n",
       "      <th>max</th>\n",
       "      <td>123.000000</td>\n",
       "      <td>1.000000</td>\n",
       "      <td>29.000000</td>\n",
       "      <td>1.000000</td>\n",
       "    </tr>\n",
       "  </tbody>\n",
       "</table>\n",
       "</div>"
      ],
      "text/plain": [
       "                 age       new_user  total_pages_visited      converted\n",
       "count  316200.000000  316200.000000        316200.000000  316200.000000\n",
       "mean       30.569858       0.685465             4.872966       0.032258\n",
       "std         8.271802       0.464331             3.341104       0.176685\n",
       "min        17.000000       0.000000             1.000000       0.000000\n",
       "25%        24.000000       0.000000             2.000000       0.000000\n",
       "50%        30.000000       1.000000             4.000000       0.000000\n",
       "75%        36.000000       1.000000             7.000000       0.000000\n",
       "max       123.000000       1.000000            29.000000       1.000000"
      ]
     },
     "execution_count": 184,
     "metadata": {},
     "output_type": "execute_result"
    }
   ],
   "source": [
    "data.describe()"
   ]
  },
  {
   "cell_type": "code",
   "execution_count": 185,
   "metadata": {},
   "outputs": [
    {
     "data": {
      "text/html": [
       "<div>\n",
       "<style scoped>\n",
       "    .dataframe tbody tr th:only-of-type {\n",
       "        vertical-align: middle;\n",
       "    }\n",
       "\n",
       "    .dataframe tbody tr th {\n",
       "        vertical-align: top;\n",
       "    }\n",
       "\n",
       "    .dataframe thead th {\n",
       "        text-align: right;\n",
       "    }\n",
       "</style>\n",
       "<table border=\"1\" class=\"dataframe\">\n",
       "  <thead>\n",
       "    <tr style=\"text-align: right;\">\n",
       "      <th></th>\n",
       "      <th>country</th>\n",
       "      <th>source</th>\n",
       "    </tr>\n",
       "  </thead>\n",
       "  <tbody>\n",
       "    <tr>\n",
       "      <th>count</th>\n",
       "      <td>316200</td>\n",
       "      <td>316200</td>\n",
       "    </tr>\n",
       "    <tr>\n",
       "      <th>unique</th>\n",
       "      <td>4</td>\n",
       "      <td>3</td>\n",
       "    </tr>\n",
       "    <tr>\n",
       "      <th>top</th>\n",
       "      <td>US</td>\n",
       "      <td>Seo</td>\n",
       "    </tr>\n",
       "    <tr>\n",
       "      <th>freq</th>\n",
       "      <td>178092</td>\n",
       "      <td>155040</td>\n",
       "    </tr>\n",
       "  </tbody>\n",
       "</table>\n",
       "</div>"
      ],
      "text/plain": [
       "       country  source\n",
       "count   316200  316200\n",
       "unique       4       3\n",
       "top         US     Seo\n",
       "freq    178092  155040"
      ]
     },
     "execution_count": 185,
     "metadata": {},
     "output_type": "execute_result"
    }
   ],
   "source": [
    "data.describe(include=['object']) # summary for categorical column"
   ]
  },
  {
   "cell_type": "code",
   "execution_count": 186,
   "metadata": {
    "scrolled": true
   },
   "outputs": [
    {
     "name": "stdout",
     "output_type": "stream",
     "text": [
      "country                  4\t ['China', 'Germany', 'UK', 'US']\n",
      "age                     60\t [17, 18, 19, 20, 21]\n",
      "new_user                 2\t [0, 1]\n",
      "source                   3\t ['Ads', 'Direct', 'Seo']\n",
      "total_pages_visited     29\t [1, 2, 3, 4, 5]\n",
      "converted                2\t [0, 1]\n"
     ]
    }
   ],
   "source": [
    "for column in data.columns:\n",
    "    uniques = sorted(data[column].unique())\n",
    "    print('{0:20s} {1:5d}\\t'.format(column, len(uniques)), uniques[:5])"
   ]
  },
  {
   "cell_type": "markdown",
   "metadata": {},
   "source": [
    "## Remove Outliers"
   ]
  },
  {
   "cell_type": "code",
   "execution_count": 187,
   "metadata": {},
   "outputs": [
    {
     "data": {
      "text/plain": [
       "<matplotlib.axes._subplots.AxesSubplot at 0x7f99412b5810>"
      ]
     },
     "execution_count": 187,
     "metadata": {},
     "output_type": "execute_result"
    },
    {
     "data": {
      "image/png": "[encoded data removed]",
      "text/plain": [
       "<Figure size 432x288 with 1 Axes>"
      ]
     },
     "metadata": {
      "needs_background": "light"
     },
     "output_type": "display_data"
    }
   ],
   "source": [
    "sns.distplot(data.age)"
   ]
  },
  {
   "cell_type": "markdown",
   "metadata": {},
   "source": [
    "We can see from the plot that user base is pretty young. Also there are some outliers in age should be deleted."
   ]
  },
  {
   "cell_type": "code",
   "execution_count": 188,
   "metadata": {},
   "outputs": [
    {
     "data": {
      "text/plain": [
       "[123, 111, 79, 77, 73, 72, 70, 70, 69, 69]"
      ]
     },
     "execution_count": 188,
     "metadata": {},
     "output_type": "execute_result"
    }
   ],
   "source": [
    "sorted(data.age,reverse=True)[:10]"
   ]
  },
  {
   "cell_type": "code",
   "execution_count": 189,
   "metadata": {},
   "outputs": [],
   "source": [
    "#Remove Outliers, Since there are just 2 numbers above 80.\n",
    "data = data[data['age']<80]"
   ]
  },
  {
   "cell_type": "markdown",
   "metadata": {},
   "source": [
    "## Group by converted vs not converted."
   ]
  },
  {
   "cell_type": "code",
   "execution_count": 190,
   "metadata": {},
   "outputs": [
    {
     "data": {
      "text/plain": [
       "0.03225194340255157"
      ]
     },
     "execution_count": 190,
     "metadata": {},
     "output_type": "execute_result"
    }
   ],
   "source": [
    "total_conversion_rate = data['converted'].sum()/len(data)\n",
    "total_conversion_rate"
   ]
  },
  {
   "cell_type": "code",
   "execution_count": 191,
   "metadata": {},
   "outputs": [
    {
     "data": {
      "text/plain": [
       "0    0.967748\n",
       "1    0.032252\n",
       "Name: converted, dtype: float64"
      ]
     },
     "execution_count": 191,
     "metadata": {},
     "output_type": "execute_result"
    }
   ],
   "source": [
    "sizes_convert = data['converted'].value_counts()\n",
    "data['converted'].value_counts(normalize=True)"
   ]
  },
  {
   "cell_type": "code",
   "execution_count": 192,
   "metadata": {},
   "outputs": [
    {
     "data": {
      "image/png": "[encoded data removed]",
      "text/plain": [
       "<Figure size 432x288 with 1 Axes>"
      ]
     },
     "metadata": {},
     "output_type": "display_data"
    }
   ],
   "source": [
    "# pie chart of converted vs unconverted\n",
    "fig1, ax1 = plt.subplots()\n",
    "ax1.pie(sizes_convert,labels= ['not converted','converted'],autopct='%1.1f%%',startangle=90)\n",
    "ax1.axis('equal')  # Equal aspect ratio ensures that pie is drawn as a circle.\n",
    "plt.show()"
   ]
  },
  {
   "cell_type": "markdown",
   "metadata": {},
   "source": [
    "Conversion rate at around 3% is industry standard."
   ]
  },
  {
   "cell_type": "markdown",
   "metadata": {},
   "source": [
    "##  Group by country "
   ]
  },
  {
   "cell_type": "code",
   "execution_count": 197,
   "metadata": {
    "scrolled": true
   },
   "outputs": [
    {
     "data": {
      "text/plain": [
       "US         178092\n",
       "China       76602\n",
       "UK          48449\n",
       "Germany     13055\n",
       "Name: country, dtype: int64"
      ]
     },
     "execution_count": 197,
     "metadata": {},
     "output_type": "execute_result"
    }
   ],
   "source": [
    "sizes = data['country'].value_counts()\n",
    "sizes"
   ]
  },
  {
   "cell_type": "code",
   "execution_count": 198,
   "metadata": {},
   "outputs": [
    {
     "data": {
      "text/plain": [
       "US         0.563229\n",
       "China      0.242260\n",
       "UK         0.153224\n",
       "Germany    0.041287\n",
       "Name: country, dtype: float64"
      ]
     },
     "execution_count": 198,
     "metadata": {},
     "output_type": "execute_result"
    }
   ],
   "source": [
    "data['country'].value_counts(normalize=True)"
   ]
  },
  {
   "cell_type": "code",
   "execution_count": 199,
   "metadata": {},
   "outputs": [
    {
     "data": {
      "image/png": "[encoded data removed]",
      "text/plain": [
       "<Figure size 432x288 with 1 Axes>"
      ]
     },
     "metadata": {},
     "output_type": "display_data"
    }
   ],
   "source": [
    "fig1, ax1 = plt.subplots()\n",
    "ax1.pie(sizes,labels= ['US','China','UK','Germany'],autopct='%1.1f%%',startangle=90)\n",
    "ax1.axis('equal')  # Equal aspect ratio ensures that pie is drawn as a circle.\n",
    "plt.show()"
   ]
  },
  {
   "cell_type": "code",
   "execution_count": 200,
   "metadata": {
    "scrolled": true
   },
   "outputs": [
    {
     "data": {
      "text/html": [
       "<div>\n",
       "<style scoped>\n",
       "    .dataframe tbody tr th:only-of-type {\n",
       "        vertical-align: middle;\n",
       "    }\n",
       "\n",
       "    .dataframe tbody tr th {\n",
       "        vertical-align: top;\n",
       "    }\n",
       "\n",
       "    .dataframe thead th {\n",
       "        text-align: right;\n",
       "    }\n",
       "</style>\n",
       "<table border=\"1\" class=\"dataframe\">\n",
       "  <thead>\n",
       "    <tr style=\"text-align: right;\">\n",
       "      <th></th>\n",
       "      <th>country</th>\n",
       "      <th>converted</th>\n",
       "    </tr>\n",
       "  </thead>\n",
       "  <tbody>\n",
       "    <tr>\n",
       "      <th>0</th>\n",
       "      <td>China</td>\n",
       "      <td>0.001332</td>\n",
       "    </tr>\n",
       "    <tr>\n",
       "      <th>1</th>\n",
       "      <td>Germany</td>\n",
       "      <td>0.062428</td>\n",
       "    </tr>\n",
       "    <tr>\n",
       "      <th>2</th>\n",
       "      <td>UK</td>\n",
       "      <td>0.052612</td>\n",
       "    </tr>\n",
       "    <tr>\n",
       "      <th>3</th>\n",
       "      <td>US</td>\n",
       "      <td>0.037801</td>\n",
       "    </tr>\n",
       "  </tbody>\n",
       "</table>\n",
       "</div>"
      ],
      "text/plain": [
       "   country  converted\n",
       "0    China   0.001332\n",
       "1  Germany   0.062428\n",
       "2       UK   0.052612\n",
       "3       US   0.037801"
      ]
     },
     "execution_count": 200,
     "metadata": {},
     "output_type": "execute_result"
    }
   ],
   "source": [
    "data[['country', 'converted']].groupby('country').mean().reset_index()"
   ]
  },
  {
   "cell_type": "code",
   "execution_count": 201,
   "metadata": {
    "scrolled": true
   },
   "outputs": [
    {
     "data": {
      "image/png": "[encoded data removed]",
      "text/plain": [
       "<Figure size 432x288 with 1 Axes>"
      ]
     },
     "metadata": {
      "needs_background": "light"
     },
     "output_type": "display_data"
    }
   ],
   "source": [
    "sns.barplot(x='country', y='converted', data=data).set_title('Mean Conversion Rate per Country', fontsize=16)\n",
    "plt.show()"
   ]
  },
  {
   "cell_type": "markdown",
   "metadata": {},
   "source": [
    "The site is working very well for Germany in terms of conversion. But the summary showed that there are few Germans coming to the site: way less than UK, despite a larger population. Again, marketing should get more Germans. Big opportunity.\n",
    "\n",
    "China convert at a much lower rate than other countries. Maybe Something is wrong with the Chinese version of the site. It is either poorly translated, doesn’t fit the local culture, some payment issue or maybe it is just in English! Given how many users are based in China, fixing this should be a top priority. Huge opportunity."
   ]
  },
  {
   "cell_type": "markdown",
   "metadata": {},
   "source": [
    "## Group by user type "
   ]
  },
  {
   "cell_type": "code",
   "execution_count": 202,
   "metadata": {},
   "outputs": [
    {
     "data": {
      "text/plain": [
       "1    0.685469\n",
       "0    0.314531\n",
       "Name: new_user, dtype: float64"
      ]
     },
     "execution_count": 202,
     "metadata": {},
     "output_type": "execute_result"
    }
   ],
   "source": [
    "sizes_user = data['new_user'].value_counts()\n",
    "data['new_user'].value_counts(normalize=True)"
   ]
  },
  {
   "cell_type": "code",
   "execution_count": 203,
   "metadata": {},
   "outputs": [
    {
     "data": {
      "image/png": "[encoded data removed]",
      "text/plain": [
       "<Figure size 432x288 with 1 Axes>"
      ]
     },
     "metadata": {},
     "output_type": "display_data"
    }
   ],
   "source": [
    "fig1, ax1 = plt.subplots()\n",
    "ax1.pie(sizes_user,labels= ['New user','Old user'],autopct='%1.1f%%',startangle=90)\n",
    "ax1.axis('equal')  # Equal aspect ratio ensures that pie is drawn as a circle.\n",
    "plt.show()"
   ]
  },
  {
   "cell_type": "code",
   "execution_count": 204,
   "metadata": {},
   "outputs": [
    {
     "data": {
      "text/html": [
       "<div>\n",
       "<style scoped>\n",
       "    .dataframe tbody tr th:only-of-type {\n",
       "        vertical-align: middle;\n",
       "    }\n",
       "\n",
       "    .dataframe tbody tr th {\n",
       "        vertical-align: top;\n",
       "    }\n",
       "\n",
       "    .dataframe thead th {\n",
       "        text-align: right;\n",
       "    }\n",
       "</style>\n",
       "<table border=\"1\" class=\"dataframe\">\n",
       "  <thead>\n",
       "    <tr style=\"text-align: right;\">\n",
       "      <th></th>\n",
       "      <th>new_user</th>\n",
       "      <th>converted</th>\n",
       "    </tr>\n",
       "  </thead>\n",
       "  <tbody>\n",
       "    <tr>\n",
       "      <th>0</th>\n",
       "      <td>0</td>\n",
       "      <td>0.071983</td>\n",
       "    </tr>\n",
       "    <tr>\n",
       "      <th>1</th>\n",
       "      <td>1</td>\n",
       "      <td>0.014021</td>\n",
       "    </tr>\n",
       "  </tbody>\n",
       "</table>\n",
       "</div>"
      ],
      "text/plain": [
       "   new_user  converted\n",
       "0         0   0.071983\n",
       "1         1   0.014021"
      ]
     },
     "execution_count": 204,
     "metadata": {},
     "output_type": "execute_result"
    }
   ],
   "source": [
    "data[['new_user', 'converted']].groupby('new_user').mean().reset_index()"
   ]
  },
  {
   "cell_type": "code",
   "execution_count": 205,
   "metadata": {},
   "outputs": [
    {
     "data": {
      "image/png": "[encoded data removed]",
      "text/plain": [
       "<Figure size 432x288 with 1 Axes>"
      ]
     },
     "metadata": {
      "needs_background": "light"
     },
     "output_type": "display_data"
    }
   ],
   "source": [
    "sns.barplot(x='new_user', y='converted', data=data).set_title('Mean Conversion Rate per user type', fontsize=16)\n",
    "plt.show()"
   ]
  },
  {
   "cell_type": "markdown",
   "metadata": {},
   "source": [
    "Users with old accounts do much better. Targeted emails with offers to bring them back to the site could be a good idea to try."
   ]
  },
  {
   "cell_type": "markdown",
   "metadata": {},
   "source": [
    "## Group by source"
   ]
  },
  {
   "cell_type": "code",
   "execution_count": 206,
   "metadata": {},
   "outputs": [
    {
     "data": {
      "text/plain": [
       "Seo       0.490323\n",
       "Ads       0.280644\n",
       "Direct    0.229034\n",
       "Name: source, dtype: float64"
      ]
     },
     "execution_count": 206,
     "metadata": {},
     "output_type": "execute_result"
    }
   ],
   "source": [
    "sizes_source = data['source'].value_counts()\n",
    "data['source'].value_counts(normalize=True)"
   ]
  },
  {
   "cell_type": "code",
   "execution_count": 207,
   "metadata": {},
   "outputs": [
    {
     "data": {
      "image/png": "[encoded data removed]",
      "text/plain": [
       "<Figure size 432x288 with 1 Axes>"
      ]
     },
     "metadata": {},
     "output_type": "display_data"
    }
   ],
   "source": [
    "fig1, ax1 = plt.subplots()\n",
    "ax1.pie(sizes_source,labels= ['Seo','Ads','Direct'],autopct='%1.1f%%',startangle=90)\n",
    "ax1.axis('equal')  # Equal aspect ratio ensures that pie is drawn as a circle.\n",
    "plt.show()"
   ]
  },
  {
   "cell_type": "code",
   "execution_count": 36,
   "metadata": {},
   "outputs": [
    {
     "data": {
      "text/html": [
       "<div>\n",
       "<style scoped>\n",
       "    .dataframe tbody tr th:only-of-type {\n",
       "        vertical-align: middle;\n",
       "    }\n",
       "\n",
       "    .dataframe tbody tr th {\n",
       "        vertical-align: top;\n",
       "    }\n",
       "\n",
       "    .dataframe thead th {\n",
       "        text-align: right;\n",
       "    }\n",
       "</style>\n",
       "<table border=\"1\" class=\"dataframe\">\n",
       "  <thead>\n",
       "    <tr style=\"text-align: right;\">\n",
       "      <th></th>\n",
       "      <th>source</th>\n",
       "      <th>converted</th>\n",
       "    </tr>\n",
       "  </thead>\n",
       "  <tbody>\n",
       "    <tr>\n",
       "      <th>0</th>\n",
       "      <td>Ads</td>\n",
       "      <td>0.034472</td>\n",
       "    </tr>\n",
       "    <tr>\n",
       "      <th>1</th>\n",
       "      <td>Direct</td>\n",
       "      <td>0.028169</td>\n",
       "    </tr>\n",
       "    <tr>\n",
       "      <th>2</th>\n",
       "      <td>Seo</td>\n",
       "      <td>0.032888</td>\n",
       "    </tr>\n",
       "  </tbody>\n",
       "</table>\n",
       "</div>"
      ],
      "text/plain": [
       "   source  converted\n",
       "0     Ads   0.034472\n",
       "1  Direct   0.028169\n",
       "2     Seo   0.032888"
      ]
     },
     "execution_count": 36,
     "metadata": {},
     "output_type": "execute_result"
    }
   ],
   "source": [
    "data[['source', 'converted']].groupby('source').mean().reset_index()"
   ]
  },
  {
   "cell_type": "code",
   "execution_count": 209,
   "metadata": {
    "scrolled": true
   },
   "outputs": [
    {
     "data": {
      "image/png": "[encoded data removed]",
      "text/plain": [
       "<Figure size 432x288 with 1 Axes>"
      ]
     },
     "metadata": {
      "needs_background": "light"
     },
     "output_type": "display_data"
    }
   ],
   "source": [
    "sns.barplot(x='source', y='converted', data=data).set_title('Mean Conversion Rate for each source', fontsize=16)\n",
    "plt.show()"
   ]
  },
  {
   "cell_type": "markdown",
   "metadata": {},
   "source": [
    "Conversion rate for each source are similar."
   ]
  },
  {
   "cell_type": "markdown",
   "metadata": {},
   "source": [
    "## Group by age"
   ]
  },
  {
   "cell_type": "code",
   "execution_count": 43,
   "metadata": {},
   "outputs": [
    {
     "data": {
      "text/html": [
       "<div>\n",
       "<style scoped>\n",
       "    .dataframe tbody tr th:only-of-type {\n",
       "        vertical-align: middle;\n",
       "    }\n",
       "\n",
       "    .dataframe tbody tr th {\n",
       "        vertical-align: top;\n",
       "    }\n",
       "\n",
       "    .dataframe thead th {\n",
       "        text-align: right;\n",
       "    }\n",
       "</style>\n",
       "<table border=\"1\" class=\"dataframe\">\n",
       "  <thead>\n",
       "    <tr style=\"text-align: right;\">\n",
       "      <th></th>\n",
       "      <th>age</th>\n",
       "      <th>converted</th>\n",
       "    </tr>\n",
       "  </thead>\n",
       "  <tbody>\n",
       "    <tr>\n",
       "      <th>0</th>\n",
       "      <td>17</td>\n",
       "      <td>0.071607</td>\n",
       "    </tr>\n",
       "    <tr>\n",
       "      <th>1</th>\n",
       "      <td>18</td>\n",
       "      <td>0.066029</td>\n",
       "    </tr>\n",
       "    <tr>\n",
       "      <th>2</th>\n",
       "      <td>19</td>\n",
       "      <td>0.058616</td>\n",
       "    </tr>\n",
       "    <tr>\n",
       "      <th>3</th>\n",
       "      <td>20</td>\n",
       "      <td>0.057109</td>\n",
       "    </tr>\n",
       "    <tr>\n",
       "      <th>4</th>\n",
       "      <td>21</td>\n",
       "      <td>0.053985</td>\n",
       "    </tr>\n",
       "  </tbody>\n",
       "</table>\n",
       "</div>"
      ],
      "text/plain": [
       "   age  converted\n",
       "0   17   0.071607\n",
       "1   18   0.066029\n",
       "2   19   0.058616\n",
       "3   20   0.057109\n",
       "4   21   0.053985"
      ]
     },
     "execution_count": 43,
     "metadata": {},
     "output_type": "execute_result"
    }
   ],
   "source": [
    "age_group = data[['age', 'converted']].groupby('age').mean().reset_index()\n",
    "age_group.head()"
   ]
  },
  {
   "cell_type": "code",
   "execution_count": 52,
   "metadata": {
    "scrolled": true
   },
   "outputs": [
    {
     "data": {
      "image/png": "[encoded data removed]",
      "text/plain": [
       "<Figure size 432x288 with 1 Axes>"
      ]
     },
     "metadata": {
      "needs_background": "light"
     },
     "output_type": "display_data"
    }
   ],
   "source": [
    "sns.lineplot(data = age_group, x='age',y='converted').set_title('Mean Conversion Rate VS age', fontsize=16)\n",
    "plt.show()"
   ]
  },
  {
   "cell_type": "markdown",
   "metadata": {},
   "source": [
    "The site is working very well for young users. Definitely let’s tell marketing to advertise and use marketing channel which are more likely to reach young people.\n",
    "\n",
    "Maybe go through the UI and figure out why older users perform so poorly? From 30 y/o conversion clearly starts dropping."
   ]
  },
  {
   "cell_type": "markdown",
   "metadata": {},
   "source": [
    "## Group by total pages visited."
   ]
  },
  {
   "cell_type": "code",
   "execution_count": 54,
   "metadata": {
    "scrolled": true
   },
   "outputs": [
    {
     "data": {
      "text/html": [
       "<div>\n",
       "<style scoped>\n",
       "    .dataframe tbody tr th:only-of-type {\n",
       "        vertical-align: middle;\n",
       "    }\n",
       "\n",
       "    .dataframe tbody tr th {\n",
       "        vertical-align: top;\n",
       "    }\n",
       "\n",
       "    .dataframe thead th {\n",
       "        text-align: right;\n",
       "    }\n",
       "</style>\n",
       "<table border=\"1\" class=\"dataframe\">\n",
       "  <thead>\n",
       "    <tr style=\"text-align: right;\">\n",
       "      <th></th>\n",
       "      <th>total_pages_visited</th>\n",
       "      <th>converted</th>\n",
       "    </tr>\n",
       "  </thead>\n",
       "  <tbody>\n",
       "    <tr>\n",
       "      <th>0</th>\n",
       "      <td>1</td>\n",
       "      <td>0.000000</td>\n",
       "    </tr>\n",
       "    <tr>\n",
       "      <th>1</th>\n",
       "      <td>2</td>\n",
       "      <td>0.000228</td>\n",
       "    </tr>\n",
       "    <tr>\n",
       "      <th>2</th>\n",
       "      <td>3</td>\n",
       "      <td>0.000251</td>\n",
       "    </tr>\n",
       "    <tr>\n",
       "      <th>3</th>\n",
       "      <td>4</td>\n",
       "      <td>0.000780</td>\n",
       "    </tr>\n",
       "    <tr>\n",
       "      <th>4</th>\n",
       "      <td>5</td>\n",
       "      <td>0.001570</td>\n",
       "    </tr>\n",
       "  </tbody>\n",
       "</table>\n",
       "</div>"
      ],
      "text/plain": [
       "   total_pages_visited  converted\n",
       "0                    1   0.000000\n",
       "1                    2   0.000228\n",
       "2                    3   0.000251\n",
       "3                    4   0.000780\n",
       "4                    5   0.001570"
      ]
     },
     "execution_count": 54,
     "metadata": {},
     "output_type": "execute_result"
    }
   ],
   "source": [
    "page_visit_group = data[['total_pages_visited', 'converted']].groupby('total_pages_visited').mean().reset_index()\n",
    "page_visit_group.head()"
   ]
  },
  {
   "cell_type": "code",
   "execution_count": 56,
   "metadata": {
    "scrolled": true
   },
   "outputs": [
    {
     "data": {
      "image/png": "[encoded data removed]",
      "text/plain": [
       "<Figure size 432x288 with 1 Axes>"
      ]
     },
     "metadata": {
      "needs_background": "light"
     },
     "output_type": "display_data"
    }
   ],
   "source": [
    "sns.lineplot(data = page_visit_group, x='total_pages_visited',y='converted').set_title('Mean Conversion Rate VS page visit', fontsize=16)\n",
    "plt.show()"
   ]
  },
  {
   "cell_type": "markdown",
   "metadata": {},
   "source": [
    "More pages visited implies higher conversion rate. \n",
    "\n",
    "If I know someone has visited many pages, but hasn’t converted, she almost surely has high purchase intent. I could email her targeted offers or sending her reminders. Overall, these are probably the easiest users to make convert."
   ]
  },
  {
   "cell_type": "markdown",
   "metadata": {},
   "source": [
    "# Build ML models"
   ]
  },
  {
   "cell_type": "markdown",
   "metadata": {},
   "source": [
    "Next step:\n",
    "Build ML model to predict conversion rate (whether an user is converted or not). This is a classification problem.\n",
    "\n",
    "We will try\n",
    "1. logistic model\n",
    "2. logistic model with regularization \n",
    "3. random forest model"
   ]
  },
  {
   "cell_type": "markdown",
   "metadata": {},
   "source": [
    "## Data preperation"
   ]
  },
  {
   "cell_type": "code",
   "execution_count": 84,
   "metadata": {},
   "outputs": [],
   "source": [
    "# Split into 75% training and 25% test dataset\n",
    "train, test = h2o_df.split_frame(ratios = [0.8], seed = 1234)\n",
    "feature = ['country', 'age', 'new_user', 'source', 'total_pages_visited']\n",
    "target = 'converted'"
   ]
  },
  {
   "cell_type": "code",
   "execution_count": 78,
   "metadata": {},
   "outputs": [
    {
     "name": "stdout",
     "output_type": "stream",
     "text": [
      "Checking whether there is an H2O instance running at http://localhost:54321 ..... not found.\n",
      "Attempting to start a local H2O server...\n",
      "  Java Version: java version \"1.8.0_261\"; Java(TM) SE Runtime Environment (build 1.8.0_261-b12); Java HotSpot(TM) 64-Bit Server VM (build 25.261-b12, mixed mode)\n",
      "  Starting server from /Users/opheliaming/opt/anaconda3/envs/py37/lib/python3.7/site-packages/h2o/backend/bin/h2o.jar\n",
      "  Ice root: /var/folders/70/03x2hqsd6hlbxgztv4sps06m0000gn/T/tmp6e_ikxyx\n",
      "  JVM stdout: /var/folders/70/03x2hqsd6hlbxgztv4sps06m0000gn/T/tmp6e_ikxyx/h2o_opheliaming_started_from_python.out\n",
      "  JVM stderr: /var/folders/70/03x2hqsd6hlbxgztv4sps06m0000gn/T/tmp6e_ikxyx/h2o_opheliaming_started_from_python.err\n",
      "  Server is running at http://127.0.0.1:54321\n",
      "Connecting to H2O server at http://127.0.0.1:54321 ... successful.\n"
     ]
    },
    {
     "data": {
      "text/html": [
       "<div style=\"overflow:auto\"><table style=\"width:50%\"><tr><td>H2O_cluster_uptime:</td>\n",
       "<td>08 secs</td></tr>\n",
       "<tr><td>H2O_cluster_timezone:</td>\n",
       "<td>Europe/Amsterdam</td></tr>\n",
       "<tr><td>H2O_data_parsing_timezone:</td>\n",
       "<td>UTC</td></tr>\n",
       "<tr><td>H2O_cluster_version:</td>\n",
       "<td>3.32.0.2</td></tr>\n",
       "<tr><td>H2O_cluster_version_age:</td>\n",
       "<td>27 days </td></tr>\n",
       "<tr><td>H2O_cluster_name:</td>\n",
       "<td>H2O_from_python_opheliaming_jdndet</td></tr>\n",
       "<tr><td>H2O_cluster_total_nodes:</td>\n",
       "<td>1</td></tr>\n",
       "<tr><td>H2O_cluster_free_memory:</td>\n",
       "<td>3.556 Gb</td></tr>\n",
       "<tr><td>H2O_cluster_total_cores:</td>\n",
       "<td>0</td></tr>\n",
       "<tr><td>H2O_cluster_allowed_cores:</td>\n",
       "<td>0</td></tr>\n",
       "<tr><td>H2O_cluster_status:</td>\n",
       "<td>accepting new members, healthy</td></tr>\n",
       "<tr><td>H2O_connection_url:</td>\n",
       "<td>http://127.0.0.1:54321</td></tr>\n",
       "<tr><td>H2O_connection_proxy:</td>\n",
       "<td>{\"http\": null, \"https\": null}</td></tr>\n",
       "<tr><td>H2O_internal_security:</td>\n",
       "<td>False</td></tr>\n",
       "<tr><td>H2O_API_Extensions:</td>\n",
       "<td>Amazon S3, XGBoost, Algos, AutoML, Core V3, TargetEncoder, Core V4</td></tr>\n",
       "<tr><td>Python_version:</td>\n",
       "<td>3.7.6 final</td></tr></table></div>"
      ],
      "text/plain": [
       "--------------------------  ------------------------------------------------------------------\n",
       "H2O_cluster_uptime:         08 secs\n",
       "H2O_cluster_timezone:       Europe/Amsterdam\n",
       "H2O_data_parsing_timezone:  UTC\n",
       "H2O_cluster_version:        3.32.0.2\n",
       "H2O_cluster_version_age:    27 days\n",
       "H2O_cluster_name:           H2O_from_python_opheliaming_jdndet\n",
       "H2O_cluster_total_nodes:    1\n",
       "H2O_cluster_free_memory:    3.556 Gb\n",
       "H2O_cluster_total_cores:    0\n",
       "H2O_cluster_allowed_cores:  0\n",
       "H2O_cluster_status:         accepting new members, healthy\n",
       "H2O_connection_url:         http://127.0.0.1:54321\n",
       "H2O_connection_proxy:       {\"http\": null, \"https\": null}\n",
       "H2O_internal_security:      False\n",
       "H2O_API_Extensions:         Amazon S3, XGBoost, Algos, AutoML, Core V3, TargetEncoder, Core V4\n",
       "Python_version:             3.7.6 final\n",
       "--------------------------  ------------------------------------------------------------------"
      ]
     },
     "metadata": {},
     "output_type": "display_data"
    }
   ],
   "source": [
    "# Initialize H2O cluster\n",
    "h2o.init()"
   ]
  },
  {
   "cell_type": "code",
   "execution_count": 83,
   "metadata": {},
   "outputs": [
    {
     "name": "stdout",
     "output_type": "stream",
     "text": [
      "Parse progress: |█████████████████████████████████████████████████████████| 100%\n"
     ]
    },
    {
     "data": {
      "text/html": [
       "<table>\n",
       "<thead>\n",
       "<tr><th>       </th><th>country  </th><th>age              </th><th>new_user  </th><th>source  </th><th>total_pages_visited  </th><th>converted  </th></tr>\n",
       "</thead>\n",
       "<tbody>\n",
       "<tr><td>type   </td><td>enum     </td><td>int              </td><td>enum      </td><td>enum    </td><td>int                  </td><td>enum       </td></tr>\n",
       "<tr><td>mins   </td><td>         </td><td>17.0             </td><td>          </td><td>        </td><td>1.0                  </td><td>           </td></tr>\n",
       "<tr><td>mean   </td><td>         </td><td>30.56931100133461</td><td>          </td><td>        </td><td>4.872918234777001    </td><td>           </td></tr>\n",
       "<tr><td>maxs   </td><td>         </td><td>79.0             </td><td>          </td><td>        </td><td>29.0                 </td><td>           </td></tr>\n",
       "<tr><td>sigma  </td><td>         </td><td>8.268957596421435</td><td>          </td><td>        </td><td>3.3410533442156285   </td><td>           </td></tr>\n",
       "<tr><td>zeros  </td><td>         </td><td>0                </td><td>          </td><td>        </td><td>0                    </td><td>           </td></tr>\n",
       "<tr><td>missing</td><td>0        </td><td>0                </td><td>0         </td><td>0       </td><td>0                    </td><td>0          </td></tr>\n",
       "<tr><td>0      </td><td>UK       </td><td>25.0             </td><td>1         </td><td>Ads     </td><td>1.0                  </td><td>0          </td></tr>\n",
       "<tr><td>1      </td><td>US       </td><td>23.0             </td><td>1         </td><td>Seo     </td><td>5.0                  </td><td>0          </td></tr>\n",
       "<tr><td>2      </td><td>US       </td><td>28.0             </td><td>1         </td><td>Seo     </td><td>4.0                  </td><td>0          </td></tr>\n",
       "<tr><td>3      </td><td>China    </td><td>39.0             </td><td>1         </td><td>Seo     </td><td>5.0                  </td><td>0          </td></tr>\n",
       "<tr><td>4      </td><td>US       </td><td>30.0             </td><td>1         </td><td>Seo     </td><td>6.0                  </td><td>0          </td></tr>\n",
       "<tr><td>5      </td><td>US       </td><td>31.0             </td><td>0         </td><td>Seo     </td><td>1.0                  </td><td>0          </td></tr>\n",
       "<tr><td>6      </td><td>China    </td><td>27.0             </td><td>1         </td><td>Seo     </td><td>4.0                  </td><td>0          </td></tr>\n",
       "<tr><td>7      </td><td>US       </td><td>23.0             </td><td>0         </td><td>Ads     </td><td>4.0                  </td><td>0          </td></tr>\n",
       "<tr><td>8      </td><td>UK       </td><td>29.0             </td><td>0         </td><td>Direct  </td><td>4.0                  </td><td>0          </td></tr>\n",
       "<tr><td>9      </td><td>US       </td><td>25.0             </td><td>0         </td><td>Ads     </td><td>2.0                  </td><td>0          </td></tr>\n",
       "</tbody>\n",
       "</table>"
      ]
     },
     "metadata": {},
     "output_type": "display_data"
    }
   ],
   "source": [
    "# Transform to H2O Frame, and make sure the target variable which contains integer (e.g. 0,1) are categorical\n",
    "h2o_df = H2OFrame(data)\n",
    "h2o_df['new_user'] = h2o_df['new_user'].asfactor()\n",
    "h2o_df['converted'] = h2o_df['converted'].asfactor()\n",
    "h2o_df.summary()"
   ]
  },
  {
   "cell_type": "markdown",
   "metadata": {},
   "source": [
    "## Logistic regression "
   ]
  },
  {
   "cell_type": "code",
   "execution_count": 108,
   "metadata": {},
   "outputs": [
    {
     "name": "stdout",
     "output_type": "stream",
     "text": [
      "glm Model Build progress: |███████████████████████████████████████████████| 100%\n"
     ]
    }
   ],
   "source": [
    "lr_model = H2OGeneralizedLinearEstimator(family= \"binomial\",\n",
    "                                          lambda_ = 0, # No Regularization\n",
    "                                          compute_p_values = True)\n",
    "lr_model.train(feature, target, training_frame= train)"
   ]
  },
  {
   "cell_type": "code",
   "execution_count": 109,
   "metadata": {
    "scrolled": true
   },
   "outputs": [
    {
     "name": "stdout",
     "output_type": "stream",
     "text": [
      "\n",
      "Coefficients: glm coefficients\n"
     ]
    },
    {
     "data": {
      "text/html": [
       "<div>\n",
       "<style scoped>\n",
       "    .dataframe tbody tr th:only-of-type {\n",
       "        vertical-align: middle;\n",
       "    }\n",
       "\n",
       "    .dataframe tbody tr th {\n",
       "        vertical-align: top;\n",
       "    }\n",
       "\n",
       "    .dataframe thead th {\n",
       "        text-align: right;\n",
       "    }\n",
       "</style>\n",
       "<table border=\"1\" class=\"dataframe\">\n",
       "  <thead>\n",
       "    <tr style=\"text-align: right;\">\n",
       "      <th></th>\n",
       "      <th>names</th>\n",
       "      <th>coefficients</th>\n",
       "      <th>std_error</th>\n",
       "      <th>z_value</th>\n",
       "      <th>p_value</th>\n",
       "      <th>standardized_coefficients</th>\n",
       "    </tr>\n",
       "  </thead>\n",
       "  <tbody>\n",
       "    <tr>\n",
       "      <th>0</th>\n",
       "      <td>Intercept</td>\n",
       "      <td>-10.448601</td>\n",
       "      <td>0.171569</td>\n",
       "      <td>-60.900305</td>\n",
       "      <td>0.000000</td>\n",
       "      <td>-8.974405</td>\n",
       "    </tr>\n",
       "    <tr>\n",
       "      <th>1</th>\n",
       "      <td>country.Germany</td>\n",
       "      <td>3.923337</td>\n",
       "      <td>0.151383</td>\n",
       "      <td>25.916637</td>\n",
       "      <td>0.000000</td>\n",
       "      <td>3.923337</td>\n",
       "    </tr>\n",
       "    <tr>\n",
       "      <th>2</th>\n",
       "      <td>country.UK</td>\n",
       "      <td>3.721586</td>\n",
       "      <td>0.138539</td>\n",
       "      <td>26.863082</td>\n",
       "      <td>0.000000</td>\n",
       "      <td>3.721586</td>\n",
       "    </tr>\n",
       "    <tr>\n",
       "      <th>3</th>\n",
       "      <td>country.US</td>\n",
       "      <td>3.361179</td>\n",
       "      <td>0.134622</td>\n",
       "      <td>24.967453</td>\n",
       "      <td>0.000000</td>\n",
       "      <td>3.361179</td>\n",
       "    </tr>\n",
       "    <tr>\n",
       "      <th>4</th>\n",
       "      <td>source.Direct</td>\n",
       "      <td>-0.205178</td>\n",
       "      <td>0.054313</td>\n",
       "      <td>-3.777681</td>\n",
       "      <td>0.000158</td>\n",
       "      <td>-0.205178</td>\n",
       "    </tr>\n",
       "    <tr>\n",
       "      <th>5</th>\n",
       "      <td>source.Seo</td>\n",
       "      <td>-0.041698</td>\n",
       "      <td>0.044240</td>\n",
       "      <td>-0.942527</td>\n",
       "      <td>0.345923</td>\n",
       "      <td>-0.041698</td>\n",
       "    </tr>\n",
       "    <tr>\n",
       "      <th>6</th>\n",
       "      <td>new_user.1</td>\n",
       "      <td>-1.750315</td>\n",
       "      <td>0.039674</td>\n",
       "      <td>-44.117463</td>\n",
       "      <td>0.000000</td>\n",
       "      <td>-1.750315</td>\n",
       "    </tr>\n",
       "    <tr>\n",
       "      <th>7</th>\n",
       "      <td>age</td>\n",
       "      <td>-0.072545</td>\n",
       "      <td>0.002641</td>\n",
       "      <td>-27.472491</td>\n",
       "      <td>0.000000</td>\n",
       "      <td>-0.600135</td>\n",
       "    </tr>\n",
       "    <tr>\n",
       "      <th>8</th>\n",
       "      <td>total_pages_visited</td>\n",
       "      <td>0.757040</td>\n",
       "      <td>0.006916</td>\n",
       "      <td>109.463993</td>\n",
       "      <td>0.000000</td>\n",
       "      <td>2.533483</td>\n",
       "    </tr>\n",
       "  </tbody>\n",
       "</table>\n",
       "</div>"
      ],
      "text/plain": [
       "                 names  coefficients  std_error     z_value   p_value  \\\n",
       "0            Intercept    -10.448601   0.171569  -60.900305  0.000000   \n",
       "1      country.Germany      3.923337   0.151383   25.916637  0.000000   \n",
       "2           country.UK      3.721586   0.138539   26.863082  0.000000   \n",
       "3           country.US      3.361179   0.134622   24.967453  0.000000   \n",
       "4        source.Direct     -0.205178   0.054313   -3.777681  0.000158   \n",
       "5           source.Seo     -0.041698   0.044240   -0.942527  0.345923   \n",
       "6           new_user.1     -1.750315   0.039674  -44.117463  0.000000   \n",
       "7                  age     -0.072545   0.002641  -27.472491  0.000000   \n",
       "8  total_pages_visited      0.757040   0.006916  109.463993  0.000000   \n",
       "\n",
       "   standardized_coefficients  \n",
       "0                  -8.974405  \n",
       "1                   3.923337  \n",
       "2                   3.721586  \n",
       "3                   3.361179  \n",
       "4                  -0.205178  \n",
       "5                  -0.041698  \n",
       "6                  -1.750315  \n",
       "7                  -0.600135  \n",
       "8                   2.533483  "
      ]
     },
     "metadata": {},
     "output_type": "display_data"
    },
    {
     "data": {
      "text/plain": []
     },
     "execution_count": 109,
     "metadata": {},
     "output_type": "execute_result"
    }
   ],
   "source": [
    "lr_model._model_json['output']['coefficients_table']"
   ]
  },
  {
   "cell_type": "code",
   "execution_count": 110,
   "metadata": {
    "scrolled": true
   },
   "outputs": [
    {
     "data": {
      "image/png": "[encoded data removed]",
      "text/plain": [
       "<Figure size 1008x720 with 1 Axes>"
      ]
     },
     "metadata": {
      "needs_background": "light"
     },
     "output_type": "display_data"
    }
   ],
   "source": [
    "lr_model.std_coef_plot()"
   ]
  },
  {
   "cell_type": "code",
   "execution_count": 111,
   "metadata": {
    "scrolled": true
   },
   "outputs": [
    {
     "name": "stdout",
     "output_type": "stream",
     "text": [
      "\n",
      "ModelMetricsBinomialGLM: glm\n",
      "** Reported on test data. **\n",
      "\n",
      "MSE: 0.010622923588474172\n",
      "RMSE: 0.10306756807295965\n",
      "LogLoss: 0.03962388892393442\n",
      "Null degrees of freedom: 63049\n",
      "Residual degrees of freedom: 63041\n",
      "Null deviance: 17550.166988880163\n",
      "Residual deviance: 4996.572393308125\n",
      "AIC: 5014.572393308125\n",
      "AUC: 0.9862337019660359\n",
      "AUCPR: 0.8418000719769683\n",
      "Gini: 0.9724674039320718\n",
      "\n",
      "Confusion Matrix (Act/Pred) for max f1 @ threshold = 0.37605823382520004: \n"
     ]
    },
    {
     "data": {
      "text/html": [
       "<div>\n",
       "<style scoped>\n",
       "    .dataframe tbody tr th:only-of-type {\n",
       "        vertical-align: middle;\n",
       "    }\n",
       "\n",
       "    .dataframe tbody tr th {\n",
       "        vertical-align: top;\n",
       "    }\n",
       "\n",
       "    .dataframe thead th {\n",
       "        text-align: right;\n",
       "    }\n",
       "</style>\n",
       "<table border=\"1\" class=\"dataframe\">\n",
       "  <thead>\n",
       "    <tr style=\"text-align: right;\">\n",
       "      <th></th>\n",
       "      <th></th>\n",
       "      <th>0</th>\n",
       "      <th>1</th>\n",
       "      <th>Error</th>\n",
       "      <th>Rate</th>\n",
       "    </tr>\n",
       "  </thead>\n",
       "  <tbody>\n",
       "    <tr>\n",
       "      <th>0</th>\n",
       "      <td>0</td>\n",
       "      <td>60678.0</td>\n",
       "      <td>400.0</td>\n",
       "      <td>0.0065</td>\n",
       "      <td>(400.0/61078.0)</td>\n",
       "    </tr>\n",
       "    <tr>\n",
       "      <th>1</th>\n",
       "      <td>1</td>\n",
       "      <td>487.0</td>\n",
       "      <td>1485.0</td>\n",
       "      <td>0.247</td>\n",
       "      <td>(487.0/1972.0)</td>\n",
       "    </tr>\n",
       "    <tr>\n",
       "      <th>2</th>\n",
       "      <td>Total</td>\n",
       "      <td>61165.0</td>\n",
       "      <td>1885.0</td>\n",
       "      <td>0.0141</td>\n",
       "      <td>(887.0/63050.0)</td>\n",
       "    </tr>\n",
       "  </tbody>\n",
       "</table>\n",
       "</div>"
      ],
      "text/plain": [
       "                0       1   Error              Rate\n",
       "0      0  60678.0   400.0  0.0065   (400.0/61078.0)\n",
       "1      1    487.0  1485.0   0.247    (487.0/1972.0)\n",
       "2  Total  61165.0  1885.0  0.0141   (887.0/63050.0)"
      ]
     },
     "metadata": {},
     "output_type": "display_data"
    },
    {
     "name": "stdout",
     "output_type": "stream",
     "text": [
      "\n",
      "Maximum Metrics: Maximum metrics at their respective thresholds\n"
     ]
    },
    {
     "data": {
      "text/html": [
       "<div>\n",
       "<style scoped>\n",
       "    .dataframe tbody tr th:only-of-type {\n",
       "        vertical-align: middle;\n",
       "    }\n",
       "\n",
       "    .dataframe tbody tr th {\n",
       "        vertical-align: top;\n",
       "    }\n",
       "\n",
       "    .dataframe thead th {\n",
       "        text-align: right;\n",
       "    }\n",
       "</style>\n",
       "<table border=\"1\" class=\"dataframe\">\n",
       "  <thead>\n",
       "    <tr style=\"text-align: right;\">\n",
       "      <th></th>\n",
       "      <th>metric</th>\n",
       "      <th>threshold</th>\n",
       "      <th>value</th>\n",
       "      <th>idx</th>\n",
       "    </tr>\n",
       "  </thead>\n",
       "  <tbody>\n",
       "    <tr>\n",
       "      <th>0</th>\n",
       "      <td>max f1</td>\n",
       "      <td>0.376058</td>\n",
       "      <td>0.770029</td>\n",
       "      <td>180.0</td>\n",
       "    </tr>\n",
       "    <tr>\n",
       "      <th>1</th>\n",
       "      <td>max f2</td>\n",
       "      <td>0.143463</td>\n",
       "      <td>0.791287</td>\n",
       "      <td>254.0</td>\n",
       "    </tr>\n",
       "    <tr>\n",
       "      <th>2</th>\n",
       "      <td>max f0point5</td>\n",
       "      <td>0.673156</td>\n",
       "      <td>0.824918</td>\n",
       "      <td>105.0</td>\n",
       "    </tr>\n",
       "    <tr>\n",
       "      <th>3</th>\n",
       "      <td>max accuracy</td>\n",
       "      <td>0.447998</td>\n",
       "      <td>0.986328</td>\n",
       "      <td>160.0</td>\n",
       "    </tr>\n",
       "    <tr>\n",
       "      <th>4</th>\n",
       "      <td>max precision</td>\n",
       "      <td>0.999609</td>\n",
       "      <td>1.000000</td>\n",
       "      <td>0.0</td>\n",
       "    </tr>\n",
       "    <tr>\n",
       "      <th>5</th>\n",
       "      <td>max recall</td>\n",
       "      <td>0.000023</td>\n",
       "      <td>1.000000</td>\n",
       "      <td>399.0</td>\n",
       "    </tr>\n",
       "    <tr>\n",
       "      <th>6</th>\n",
       "      <td>max specificity</td>\n",
       "      <td>0.999609</td>\n",
       "      <td>1.000000</td>\n",
       "      <td>0.0</td>\n",
       "    </tr>\n",
       "    <tr>\n",
       "      <th>7</th>\n",
       "      <td>max absolute_mcc</td>\n",
       "      <td>0.401837</td>\n",
       "      <td>0.763008</td>\n",
       "      <td>173.0</td>\n",
       "    </tr>\n",
       "    <tr>\n",
       "      <th>8</th>\n",
       "      <td>max min_per_class_accuracy</td>\n",
       "      <td>0.031686</td>\n",
       "      <td>0.940420</td>\n",
       "      <td>328.0</td>\n",
       "    </tr>\n",
       "    <tr>\n",
       "      <th>9</th>\n",
       "      <td>max mean_per_class_accuracy</td>\n",
       "      <td>0.043531</td>\n",
       "      <td>0.941474</td>\n",
       "      <td>317.0</td>\n",
       "    </tr>\n",
       "    <tr>\n",
       "      <th>10</th>\n",
       "      <td>max tns</td>\n",
       "      <td>0.999609</td>\n",
       "      <td>61078.000000</td>\n",
       "      <td>0.0</td>\n",
       "    </tr>\n",
       "    <tr>\n",
       "      <th>11</th>\n",
       "      <td>max fns</td>\n",
       "      <td>0.999609</td>\n",
       "      <td>1891.000000</td>\n",
       "      <td>0.0</td>\n",
       "    </tr>\n",
       "    <tr>\n",
       "      <th>12</th>\n",
       "      <td>max fps</td>\n",
       "      <td>0.000023</td>\n",
       "      <td>61078.000000</td>\n",
       "      <td>399.0</td>\n",
       "    </tr>\n",
       "    <tr>\n",
       "      <th>13</th>\n",
       "      <td>max tps</td>\n",
       "      <td>0.000023</td>\n",
       "      <td>1972.000000</td>\n",
       "      <td>399.0</td>\n",
       "    </tr>\n",
       "    <tr>\n",
       "      <th>14</th>\n",
       "      <td>max tnr</td>\n",
       "      <td>0.999609</td>\n",
       "      <td>1.000000</td>\n",
       "      <td>0.0</td>\n",
       "    </tr>\n",
       "    <tr>\n",
       "      <th>15</th>\n",
       "      <td>max fnr</td>\n",
       "      <td>0.999609</td>\n",
       "      <td>0.958925</td>\n",
       "      <td>0.0</td>\n",
       "    </tr>\n",
       "    <tr>\n",
       "      <th>16</th>\n",
       "      <td>max fpr</td>\n",
       "      <td>0.000023</td>\n",
       "      <td>1.000000</td>\n",
       "      <td>399.0</td>\n",
       "    </tr>\n",
       "    <tr>\n",
       "      <th>17</th>\n",
       "      <td>max tpr</td>\n",
       "      <td>0.000023</td>\n",
       "      <td>1.000000</td>\n",
       "      <td>399.0</td>\n",
       "    </tr>\n",
       "  </tbody>\n",
       "</table>\n",
       "</div>"
      ],
      "text/plain": [
       "                         metric  threshold         value    idx\n",
       "0                        max f1   0.376058      0.770029  180.0\n",
       "1                        max f2   0.143463      0.791287  254.0\n",
       "2                  max f0point5   0.673156      0.824918  105.0\n",
       "3                  max accuracy   0.447998      0.986328  160.0\n",
       "4                 max precision   0.999609      1.000000    0.0\n",
       "5                    max recall   0.000023      1.000000  399.0\n",
       "6               max specificity   0.999609      1.000000    0.0\n",
       "7              max absolute_mcc   0.401837      0.763008  173.0\n",
       "8    max min_per_class_accuracy   0.031686      0.940420  328.0\n",
       "9   max mean_per_class_accuracy   0.043531      0.941474  317.0\n",
       "10                      max tns   0.999609  61078.000000    0.0\n",
       "11                      max fns   0.999609   1891.000000    0.0\n",
       "12                      max fps   0.000023  61078.000000  399.0\n",
       "13                      max tps   0.000023   1972.000000  399.0\n",
       "14                      max tnr   0.999609      1.000000    0.0\n",
       "15                      max fnr   0.999609      0.958925    0.0\n",
       "16                      max fpr   0.000023      1.000000  399.0\n",
       "17                      max tpr   0.000023      1.000000  399.0"
      ]
     },
     "metadata": {},
     "output_type": "display_data"
    },
    {
     "name": "stdout",
     "output_type": "stream",
     "text": [
      "\n",
      "Gains/Lift Table: Avg response rate:  3.13 %, avg score:  9.12 %\n"
     ]
    },
    {
     "data": {
      "text/html": [
       "<div>\n",
       "<style scoped>\n",
       "    .dataframe tbody tr th:only-of-type {\n",
       "        vertical-align: middle;\n",
       "    }\n",
       "\n",
       "    .dataframe tbody tr th {\n",
       "        vertical-align: top;\n",
       "    }\n",
       "\n",
       "    .dataframe thead th {\n",
       "        text-align: right;\n",
       "    }\n",
       "</style>\n",
       "<table border=\"1\" class=\"dataframe\">\n",
       "  <thead>\n",
       "    <tr style=\"text-align: right;\">\n",
       "      <th></th>\n",
       "      <th>group</th>\n",
       "      <th>cumulative_data_fraction</th>\n",
       "      <th>lower_threshold</th>\n",
       "      <th>lift</th>\n",
       "      <th>cumulative_lift</th>\n",
       "      <th>response_rate</th>\n",
       "      <th>score</th>\n",
       "      <th>cumulative_response_rate</th>\n",
       "      <th>cumulative_score</th>\n",
       "      <th>capture_rate</th>\n",
       "      <th>cumulative_capture_rate</th>\n",
       "      <th>gain</th>\n",
       "      <th>cumulative_gain</th>\n",
       "      <th>kolmogorov_smirnov</th>\n",
       "    </tr>\n",
       "  </thead>\n",
       "  <tbody>\n",
       "    <tr>\n",
       "      <th>0</th>\n",
       "      <td>1</td>\n",
       "      <td>0.010151</td>\n",
       "      <td>0.166950</td>\n",
       "      <td>0.000000</td>\n",
       "      <td>0.000000</td>\n",
       "      <td>0.000000</td>\n",
       "      <td>0.171114</td>\n",
       "      <td>0.000000</td>\n",
       "      <td>0.171114</td>\n",
       "      <td>0.000000</td>\n",
       "      <td>0.000000</td>\n",
       "      <td>-100.000000</td>\n",
       "      <td>-100.000000</td>\n",
       "      <td>-0.010478</td>\n",
       "    </tr>\n",
       "    <tr>\n",
       "      <th>1</th>\n",
       "      <td>2</td>\n",
       "      <td>0.020159</td>\n",
       "      <td>0.164238</td>\n",
       "      <td>0.000000</td>\n",
       "      <td>0.000000</td>\n",
       "      <td>0.000000</td>\n",
       "      <td>0.165341</td>\n",
       "      <td>0.000000</td>\n",
       "      <td>0.168248</td>\n",
       "      <td>0.000000</td>\n",
       "      <td>0.000000</td>\n",
       "      <td>-100.000000</td>\n",
       "      <td>-100.000000</td>\n",
       "      <td>-0.020809</td>\n",
       "    </tr>\n",
       "    <tr>\n",
       "      <th>2</th>\n",
       "      <td>3</td>\n",
       "      <td>0.030389</td>\n",
       "      <td>0.162412</td>\n",
       "      <td>0.000000</td>\n",
       "      <td>0.000000</td>\n",
       "      <td>0.000000</td>\n",
       "      <td>0.163167</td>\n",
       "      <td>0.000000</td>\n",
       "      <td>0.166538</td>\n",
       "      <td>0.000000</td>\n",
       "      <td>0.000000</td>\n",
       "      <td>-100.000000</td>\n",
       "      <td>-100.000000</td>\n",
       "      <td>-0.031370</td>\n",
       "    </tr>\n",
       "    <tr>\n",
       "      <th>3</th>\n",
       "      <td>4</td>\n",
       "      <td>0.040032</td>\n",
       "      <td>0.161233</td>\n",
       "      <td>0.000000</td>\n",
       "      <td>0.000000</td>\n",
       "      <td>0.000000</td>\n",
       "      <td>0.161750</td>\n",
       "      <td>0.000000</td>\n",
       "      <td>0.165384</td>\n",
       "      <td>0.000000</td>\n",
       "      <td>0.000000</td>\n",
       "      <td>-100.000000</td>\n",
       "      <td>-100.000000</td>\n",
       "      <td>-0.041324</td>\n",
       "    </tr>\n",
       "    <tr>\n",
       "      <th>4</th>\n",
       "      <td>5</td>\n",
       "      <td>0.050008</td>\n",
       "      <td>0.159930</td>\n",
       "      <td>0.000000</td>\n",
       "      <td>0.000000</td>\n",
       "      <td>0.000000</td>\n",
       "      <td>0.160695</td>\n",
       "      <td>0.000000</td>\n",
       "      <td>0.164449</td>\n",
       "      <td>0.000000</td>\n",
       "      <td>0.000000</td>\n",
       "      <td>-100.000000</td>\n",
       "      <td>-100.000000</td>\n",
       "      <td>-0.051623</td>\n",
       "    </tr>\n",
       "    <tr>\n",
       "      <th>5</th>\n",
       "      <td>6</td>\n",
       "      <td>0.100222</td>\n",
       "      <td>0.154683</td>\n",
       "      <td>0.000000</td>\n",
       "      <td>0.000000</td>\n",
       "      <td>0.000000</td>\n",
       "      <td>0.157161</td>\n",
       "      <td>0.000000</td>\n",
       "      <td>0.160798</td>\n",
       "      <td>0.000000</td>\n",
       "      <td>0.000000</td>\n",
       "      <td>-100.000000</td>\n",
       "      <td>-100.000000</td>\n",
       "      <td>-0.103458</td>\n",
       "    </tr>\n",
       "    <tr>\n",
       "      <th>6</th>\n",
       "      <td>7</td>\n",
       "      <td>0.150087</td>\n",
       "      <td>0.149792</td>\n",
       "      <td>0.000000</td>\n",
       "      <td>0.000000</td>\n",
       "      <td>0.000000</td>\n",
       "      <td>0.152232</td>\n",
       "      <td>0.000000</td>\n",
       "      <td>0.157952</td>\n",
       "      <td>0.000000</td>\n",
       "      <td>0.000000</td>\n",
       "      <td>-100.000000</td>\n",
       "      <td>-100.000000</td>\n",
       "      <td>-0.154933</td>\n",
       "    </tr>\n",
       "    <tr>\n",
       "      <th>7</th>\n",
       "      <td>8</td>\n",
       "      <td>0.200127</td>\n",
       "      <td>0.144435</td>\n",
       "      <td>0.020268</td>\n",
       "      <td>0.005068</td>\n",
       "      <td>0.000634</td>\n",
       "      <td>0.147231</td>\n",
       "      <td>0.000159</td>\n",
       "      <td>0.155271</td>\n",
       "      <td>0.001014</td>\n",
       "      <td>0.001014</td>\n",
       "      <td>-97.973210</td>\n",
       "      <td>-99.493222</td>\n",
       "      <td>-0.205541</td>\n",
       "    </tr>\n",
       "    <tr>\n",
       "      <th>8</th>\n",
       "      <td>9</td>\n",
       "      <td>0.300032</td>\n",
       "      <td>0.093876</td>\n",
       "      <td>0.553265</td>\n",
       "      <td>0.187607</td>\n",
       "      <td>0.017304</td>\n",
       "      <td>0.118398</td>\n",
       "      <td>0.005868</td>\n",
       "      <td>0.142993</td>\n",
       "      <td>0.055274</td>\n",
       "      <td>0.056288</td>\n",
       "      <td>-44.673516</td>\n",
       "      <td>-81.239306</td>\n",
       "      <td>-0.251613</td>\n",
       "    </tr>\n",
       "    <tr>\n",
       "      <th>9</th>\n",
       "      <td>10</td>\n",
       "      <td>0.400650</td>\n",
       "      <td>0.084573</td>\n",
       "      <td>0.655177</td>\n",
       "      <td>0.305031</td>\n",
       "      <td>0.020492</td>\n",
       "      <td>0.088576</td>\n",
       "      <td>0.009540</td>\n",
       "      <td>0.129327</td>\n",
       "      <td>0.065923</td>\n",
       "      <td>0.122211</td>\n",
       "      <td>-34.482343</td>\n",
       "      <td>-69.496850</td>\n",
       "      <td>-0.287429</td>\n",
       "    </tr>\n",
       "    <tr>\n",
       "      <th>10</th>\n",
       "      <td>11</td>\n",
       "      <td>0.500111</td>\n",
       "      <td>0.078535</td>\n",
       "      <td>0.586326</td>\n",
       "      <td>0.360975</td>\n",
       "      <td>0.018338</td>\n",
       "      <td>0.081568</td>\n",
       "      <td>0.011290</td>\n",
       "      <td>0.119829</td>\n",
       "      <td>0.058316</td>\n",
       "      <td>0.180527</td>\n",
       "      <td>-41.367391</td>\n",
       "      <td>-63.902539</td>\n",
       "      <td>-0.329902</td>\n",
       "    </tr>\n",
       "    <tr>\n",
       "      <th>11</th>\n",
       "      <td>12</td>\n",
       "      <td>0.600317</td>\n",
       "      <td>0.072905</td>\n",
       "      <td>0.465571</td>\n",
       "      <td>0.378434</td>\n",
       "      <td>0.014562</td>\n",
       "      <td>0.075776</td>\n",
       "      <td>0.011836</td>\n",
       "      <td>0.112475</td>\n",
       "      <td>0.046653</td>\n",
       "      <td>0.227181</td>\n",
       "      <td>-53.442850</td>\n",
       "      <td>-62.156586</td>\n",
       "      <td>-0.385184</td>\n",
       "    </tr>\n",
       "    <tr>\n",
       "      <th>12</th>\n",
       "      <td>13</td>\n",
       "      <td>0.700936</td>\n",
       "      <td>0.066792</td>\n",
       "      <td>0.745893</td>\n",
       "      <td>0.431183</td>\n",
       "      <td>0.023329</td>\n",
       "      <td>0.069871</td>\n",
       "      <td>0.013486</td>\n",
       "      <td>0.106359</td>\n",
       "      <td>0.075051</td>\n",
       "      <td>0.302231</td>\n",
       "      <td>-25.410667</td>\n",
       "      <td>-56.881750</td>\n",
       "      <td>-0.411577</td>\n",
       "    </tr>\n",
       "    <tr>\n",
       "      <th>13</th>\n",
       "      <td>14</td>\n",
       "      <td>0.800936</td>\n",
       "      <td>0.060444</td>\n",
       "      <td>1.181542</td>\n",
       "      <td>0.524868</td>\n",
       "      <td>0.036955</td>\n",
       "      <td>0.063755</td>\n",
       "      <td>0.016416</td>\n",
       "      <td>0.101040</td>\n",
       "      <td>0.118154</td>\n",
       "      <td>0.420385</td>\n",
       "      <td>18.154158</td>\n",
       "      <td>-47.513220</td>\n",
       "      <td>-0.392837</td>\n",
       "    </tr>\n",
       "    <tr>\n",
       "      <th>14</th>\n",
       "      <td>15</td>\n",
       "      <td>0.900190</td>\n",
       "      <td>0.052820</td>\n",
       "      <td>2.058959</td>\n",
       "      <td>0.694016</td>\n",
       "      <td>0.064398</td>\n",
       "      <td>0.056943</td>\n",
       "      <td>0.021707</td>\n",
       "      <td>0.096178</td>\n",
       "      <td>0.204361</td>\n",
       "      <td>0.624746</td>\n",
       "      <td>105.895885</td>\n",
       "      <td>-30.598404</td>\n",
       "      <td>-0.284337</td>\n",
       "    </tr>\n",
       "    <tr>\n",
       "      <th>15</th>\n",
       "      <td>16</td>\n",
       "      <td>1.000000</td>\n",
       "      <td>0.033873</td>\n",
       "      <td>3.759691</td>\n",
       "      <td>1.000000</td>\n",
       "      <td>0.117591</td>\n",
       "      <td>0.046706</td>\n",
       "      <td>0.031277</td>\n",
       "      <td>0.091240</td>\n",
       "      <td>0.375254</td>\n",
       "      <td>1.000000</td>\n",
       "      <td>275.969113</td>\n",
       "      <td>0.000000</td>\n",
       "      <td>0.000000</td>\n",
       "    </tr>\n",
       "  </tbody>\n",
       "</table>\n",
       "</div>"
      ],
      "text/plain": [
       "    group  cumulative_data_fraction  lower_threshold      lift  \\\n",
       "0       1                  0.010151         0.166950  0.000000   \n",
       "1       2                  0.020159         0.164238  0.000000   \n",
       "2       3                  0.030389         0.162412  0.000000   \n",
       "3       4                  0.040032         0.161233  0.000000   \n",
       "4       5                  0.050008         0.159930  0.000000   \n",
       "5       6                  0.100222         0.154683  0.000000   \n",
       "6       7                  0.150087         0.149792  0.000000   \n",
       "7       8                  0.200127         0.144435  0.020268   \n",
       "8       9                  0.300032         0.093876  0.553265   \n",
       "9      10                  0.400650         0.084573  0.655177   \n",
       "10     11                  0.500111         0.078535  0.586326   \n",
       "11     12                  0.600317         0.072905  0.465571   \n",
       "12     13                  0.700936         0.066792  0.745893   \n",
       "13     14                  0.800936         0.060444  1.181542   \n",
       "14     15                  0.900190         0.052820  2.058959   \n",
       "15     16                  1.000000         0.033873  3.759691   \n",
       "\n",
       "    cumulative_lift  response_rate     score  cumulative_response_rate  \\\n",
       "0          0.000000       0.000000  0.171114                  0.000000   \n",
       "1          0.000000       0.000000  0.165341                  0.000000   \n",
       "2          0.000000       0.000000  0.163167                  0.000000   \n",
       "3          0.000000       0.000000  0.161750                  0.000000   \n",
       "4          0.000000       0.000000  0.160695                  0.000000   \n",
       "5          0.000000       0.000000  0.157161                  0.000000   \n",
       "6          0.000000       0.000000  0.152232                  0.000000   \n",
       "7          0.005068       0.000634  0.147231                  0.000159   \n",
       "8          0.187607       0.017304  0.118398                  0.005868   \n",
       "9          0.305031       0.020492  0.088576                  0.009540   \n",
       "10         0.360975       0.018338  0.081568                  0.011290   \n",
       "11         0.378434       0.014562  0.075776                  0.011836   \n",
       "12         0.431183       0.023329  0.069871                  0.013486   \n",
       "13         0.524868       0.036955  0.063755                  0.016416   \n",
       "14         0.694016       0.064398  0.056943                  0.021707   \n",
       "15         1.000000       0.117591  0.046706                  0.031277   \n",
       "\n",
       "    cumulative_score  capture_rate  cumulative_capture_rate        gain  \\\n",
       "0           0.171114      0.000000                 0.000000 -100.000000   \n",
       "1           0.168248      0.000000                 0.000000 -100.000000   \n",
       "2           0.166538      0.000000                 0.000000 -100.000000   \n",
       "3           0.165384      0.000000                 0.000000 -100.000000   \n",
       "4           0.164449      0.000000                 0.000000 -100.000000   \n",
       "5           0.160798      0.000000                 0.000000 -100.000000   \n",
       "6           0.157952      0.000000                 0.000000 -100.000000   \n",
       "7           0.155271      0.001014                 0.001014  -97.973210   \n",
       "8           0.142993      0.055274                 0.056288  -44.673516   \n",
       "9           0.129327      0.065923                 0.122211  -34.482343   \n",
       "10          0.119829      0.058316                 0.180527  -41.367391   \n",
       "11          0.112475      0.046653                 0.227181  -53.442850   \n",
       "12          0.106359      0.075051                 0.302231  -25.410667   \n",
       "13          0.101040      0.118154                 0.420385   18.154158   \n",
       "14          0.096178      0.204361                 0.624746  105.895885   \n",
       "15          0.091240      0.375254                 1.000000  275.969113   \n",
       "\n",
       "    cumulative_gain  kolmogorov_smirnov  \n",
       "0       -100.000000           -0.010478  \n",
       "1       -100.000000           -0.020809  \n",
       "2       -100.000000           -0.031370  \n",
       "3       -100.000000           -0.041324  \n",
       "4       -100.000000           -0.051623  \n",
       "5       -100.000000           -0.103458  \n",
       "6       -100.000000           -0.154933  \n",
       "7        -99.493222           -0.205541  \n",
       "8        -81.239306           -0.251613  \n",
       "9        -69.496850           -0.287429  \n",
       "10       -63.902539           -0.329902  \n",
       "11       -62.156586           -0.385184  \n",
       "12       -56.881750           -0.411577  \n",
       "13       -47.513220           -0.392837  \n",
       "14       -30.598404           -0.284337  \n",
       "15         0.000000            0.000000  "
      ]
     },
     "metadata": {},
     "output_type": "display_data"
    },
    {
     "name": "stdout",
     "output_type": "stream",
     "text": [
      "\n"
     ]
    },
    {
     "data": {
      "text/plain": []
     },
     "execution_count": 111,
     "metadata": {},
     "output_type": "execute_result"
    }
   ],
   "source": [
    "lr_perf = lr_model.model_performance(test)\n",
    "lr_perf"
   ]
  },
  {
   "cell_type": "code",
   "execution_count": 112,
   "metadata": {
    "scrolled": true
   },
   "outputs": [
    {
     "data": {
      "text/plain": [
       "[[0.447997783486459, 0.9863283108643933]]"
      ]
     },
     "execution_count": 112,
     "metadata": {},
     "output_type": "execute_result"
    }
   ],
   "source": [
    "lr_perf.accuracy()"
   ]
  },
  {
   "cell_type": "markdown",
   "metadata": {},
   "source": [
    "## Logistic regression with L2 Regularization "
   ]
  },
  {
   "cell_type": "code",
   "execution_count": 128,
   "metadata": {},
   "outputs": [
    {
     "name": "stdout",
     "output_type": "stream",
     "text": [
      "glm Model Build progress: |███████████████████████████████████████████████| 100%\n"
     ]
    }
   ],
   "source": [
    "# logistic regression with L2 Regularization \n",
    "lr_model_1 = H2OGeneralizedLinearEstimator(family= \"binomial\",\n",
    "                                           alpha = 0) # alpha=0: ridge, alpha = 1:lasso\n",
    "lr_model_1.train(feature, target, training_frame= train)"
   ]
  },
  {
   "cell_type": "code",
   "execution_count": 129,
   "metadata": {
    "scrolled": true
   },
   "outputs": [
    {
     "name": "stdout",
     "output_type": "stream",
     "text": [
      "\n",
      "Coefficients: glm coefficients\n"
     ]
    },
    {
     "data": {
      "text/html": [
       "<div>\n",
       "<style scoped>\n",
       "    .dataframe tbody tr th:only-of-type {\n",
       "        vertical-align: middle;\n",
       "    }\n",
       "\n",
       "    .dataframe tbody tr th {\n",
       "        vertical-align: top;\n",
       "    }\n",
       "\n",
       "    .dataframe thead th {\n",
       "        text-align: right;\n",
       "    }\n",
       "</style>\n",
       "<table border=\"1\" class=\"dataframe\">\n",
       "  <thead>\n",
       "    <tr style=\"text-align: right;\">\n",
       "      <th></th>\n",
       "      <th>names</th>\n",
       "      <th>coefficients</th>\n",
       "      <th>standardized_coefficients</th>\n",
       "    </tr>\n",
       "  </thead>\n",
       "  <tbody>\n",
       "    <tr>\n",
       "      <th>0</th>\n",
       "      <td>Intercept</td>\n",
       "      <td>-8.394576</td>\n",
       "      <td>-6.941118</td>\n",
       "    </tr>\n",
       "    <tr>\n",
       "      <th>1</th>\n",
       "      <td>country.China</td>\n",
       "      <td>-2.179177</td>\n",
       "      <td>-2.179177</td>\n",
       "    </tr>\n",
       "    <tr>\n",
       "      <th>2</th>\n",
       "      <td>country.Germany</td>\n",
       "      <td>0.913886</td>\n",
       "      <td>0.913886</td>\n",
       "    </tr>\n",
       "    <tr>\n",
       "      <th>3</th>\n",
       "      <td>country.UK</td>\n",
       "      <td>0.799079</td>\n",
       "      <td>0.799079</td>\n",
       "    </tr>\n",
       "    <tr>\n",
       "      <th>4</th>\n",
       "      <td>country.US</td>\n",
       "      <td>0.466212</td>\n",
       "      <td>0.466212</td>\n",
       "    </tr>\n",
       "    <tr>\n",
       "      <th>5</th>\n",
       "      <td>source.Ads</td>\n",
       "      <td>0.077073</td>\n",
       "      <td>0.077073</td>\n",
       "    </tr>\n",
       "    <tr>\n",
       "      <th>6</th>\n",
       "      <td>source.Direct</td>\n",
       "      <td>-0.116268</td>\n",
       "      <td>-0.116268</td>\n",
       "    </tr>\n",
       "    <tr>\n",
       "      <th>7</th>\n",
       "      <td>source.Seo</td>\n",
       "      <td>0.039195</td>\n",
       "      <td>0.039195</td>\n",
       "    </tr>\n",
       "    <tr>\n",
       "      <th>8</th>\n",
       "      <td>new_user.0</td>\n",
       "      <td>0.848979</td>\n",
       "      <td>0.848979</td>\n",
       "    </tr>\n",
       "    <tr>\n",
       "      <th>9</th>\n",
       "      <td>new_user.1</td>\n",
       "      <td>-0.848979</td>\n",
       "      <td>-0.848979</td>\n",
       "    </tr>\n",
       "    <tr>\n",
       "      <th>10</th>\n",
       "      <td>age</td>\n",
       "      <td>-0.070881</td>\n",
       "      <td>-0.586373</td>\n",
       "    </tr>\n",
       "    <tr>\n",
       "      <th>11</th>\n",
       "      <td>total_pages_visited</td>\n",
       "      <td>0.742359</td>\n",
       "      <td>2.484353</td>\n",
       "    </tr>\n",
       "  </tbody>\n",
       "</table>\n",
       "</div>"
      ],
      "text/plain": [
       "                  names  coefficients  standardized_coefficients\n",
       "0             Intercept     -8.394576                  -6.941118\n",
       "1         country.China     -2.179177                  -2.179177\n",
       "2       country.Germany      0.913886                   0.913886\n",
       "3            country.UK      0.799079                   0.799079\n",
       "4            country.US      0.466212                   0.466212\n",
       "5            source.Ads      0.077073                   0.077073\n",
       "6         source.Direct     -0.116268                  -0.116268\n",
       "7            source.Seo      0.039195                   0.039195\n",
       "8            new_user.0      0.848979                   0.848979\n",
       "9            new_user.1     -0.848979                  -0.848979\n",
       "10                  age     -0.070881                  -0.586373\n",
       "11  total_pages_visited      0.742359                   2.484353"
      ]
     },
     "metadata": {},
     "output_type": "display_data"
    },
    {
     "data": {
      "text/plain": []
     },
     "execution_count": 129,
     "metadata": {},
     "output_type": "execute_result"
    }
   ],
   "source": [
    "lr_model_1._model_json['output']['coefficients_table']"
   ]
  },
  {
   "cell_type": "code",
   "execution_count": 131,
   "metadata": {
    "scrolled": true
   },
   "outputs": [
    {
     "data": {
      "image/png": "[encoded data removed]",
      "text/plain": [
       "<Figure size 1008x720 with 1 Axes>"
      ]
     },
     "metadata": {
      "needs_background": "light"
     },
     "output_type": "display_data"
    }
   ],
   "source": [
    "lr_model_1.std_coef_plot()"
   ]
  },
  {
   "cell_type": "code",
   "execution_count": 135,
   "metadata": {},
   "outputs": [
    {
     "name": "stdout",
     "output_type": "stream",
     "text": [
      "glm Model Build progress: |███████████████████████████████████████████████| 100%\n",
      "\n",
      "Coefficients: glm coefficients\n"
     ]
    },
    {
     "data": {
      "text/html": [
       "<div>\n",
       "<style scoped>\n",
       "    .dataframe tbody tr th:only-of-type {\n",
       "        vertical-align: middle;\n",
       "    }\n",
       "\n",
       "    .dataframe tbody tr th {\n",
       "        vertical-align: top;\n",
       "    }\n",
       "\n",
       "    .dataframe thead th {\n",
       "        text-align: right;\n",
       "    }\n",
       "</style>\n",
       "<table border=\"1\" class=\"dataframe\">\n",
       "  <thead>\n",
       "    <tr style=\"text-align: right;\">\n",
       "      <th></th>\n",
       "      <th>names</th>\n",
       "      <th>coefficients</th>\n",
       "      <th>standardized_coefficients</th>\n",
       "    </tr>\n",
       "  </thead>\n",
       "  <tbody>\n",
       "    <tr>\n",
       "      <th>0</th>\n",
       "      <td>Intercept</td>\n",
       "      <td>-7.829804</td>\n",
       "      <td>-6.337811</td>\n",
       "    </tr>\n",
       "    <tr>\n",
       "      <th>1</th>\n",
       "      <td>country.China</td>\n",
       "      <td>-2.931531</td>\n",
       "      <td>-2.931531</td>\n",
       "    </tr>\n",
       "    <tr>\n",
       "      <th>2</th>\n",
       "      <td>country.Germany</td>\n",
       "      <td>0.419341</td>\n",
       "      <td>0.419341</td>\n",
       "    </tr>\n",
       "    <tr>\n",
       "      <th>3</th>\n",
       "      <td>country.UK</td>\n",
       "      <td>0.308781</td>\n",
       "      <td>0.308781</td>\n",
       "    </tr>\n",
       "    <tr>\n",
       "      <th>4</th>\n",
       "      <td>country.US</td>\n",
       "      <td>0.000000</td>\n",
       "      <td>0.000000</td>\n",
       "    </tr>\n",
       "    <tr>\n",
       "      <th>5</th>\n",
       "      <td>source.Ads</td>\n",
       "      <td>0.011320</td>\n",
       "      <td>0.011320</td>\n",
       "    </tr>\n",
       "    <tr>\n",
       "      <th>6</th>\n",
       "      <td>source.Direct</td>\n",
       "      <td>-0.122175</td>\n",
       "      <td>-0.122175</td>\n",
       "    </tr>\n",
       "    <tr>\n",
       "      <th>7</th>\n",
       "      <td>source.Seo</td>\n",
       "      <td>0.000000</td>\n",
       "      <td>0.000000</td>\n",
       "    </tr>\n",
       "    <tr>\n",
       "      <th>8</th>\n",
       "      <td>new_user.0</td>\n",
       "      <td>0.733714</td>\n",
       "      <td>0.733714</td>\n",
       "    </tr>\n",
       "    <tr>\n",
       "      <th>9</th>\n",
       "      <td>new_user.1</td>\n",
       "      <td>-0.966985</td>\n",
       "      <td>-0.966985</td>\n",
       "    </tr>\n",
       "    <tr>\n",
       "      <th>10</th>\n",
       "      <td>age</td>\n",
       "      <td>-0.070603</td>\n",
       "      <td>-0.584072</td>\n",
       "    </tr>\n",
       "    <tr>\n",
       "      <th>11</th>\n",
       "      <td>total_pages_visited</td>\n",
       "      <td>0.748518</td>\n",
       "      <td>2.504963</td>\n",
       "    </tr>\n",
       "  </tbody>\n",
       "</table>\n",
       "</div>"
      ],
      "text/plain": [
       "                  names  coefficients  standardized_coefficients\n",
       "0             Intercept     -7.829804                  -6.337811\n",
       "1         country.China     -2.931531                  -2.931531\n",
       "2       country.Germany      0.419341                   0.419341\n",
       "3            country.UK      0.308781                   0.308781\n",
       "4            country.US      0.000000                   0.000000\n",
       "5            source.Ads      0.011320                   0.011320\n",
       "6         source.Direct     -0.122175                  -0.122175\n",
       "7            source.Seo      0.000000                   0.000000\n",
       "8            new_user.0      0.733714                   0.733714\n",
       "9            new_user.1     -0.966985                  -0.966985\n",
       "10                  age     -0.070603                  -0.584072\n",
       "11  total_pages_visited      0.748518                   2.504963"
      ]
     },
     "metadata": {},
     "output_type": "display_data"
    },
    {
     "data": {
      "text/plain": []
     },
     "execution_count": 135,
     "metadata": {},
     "output_type": "execute_result"
    }
   ],
   "source": [
    "# logistic regression with L1 Regularization \n",
    "lr_model_2 = H2OGeneralizedLinearEstimator(family= \"binomial\",\n",
    "                                           alpha = 1) # alpha=0: ridge, alpha = 1:lasso\n",
    "lr_model_2.train(feature, target, training_frame= train)\n",
    "lr_model_2._model_json['output']['coefficients_table']\n",
    "lr_model_2._model_json['output']['coefficients_table']"
   ]
  },
  {
   "cell_type": "code",
   "execution_count": 136,
   "metadata": {},
   "outputs": [
    {
     "data": {
      "image/png": "[encoded data removed]",
      "text/plain": [
       "<Figure size 1008x720 with 1 Axes>"
      ]
     },
     "metadata": {
      "needs_background": "light"
     },
     "output_type": "display_data"
    }
   ],
   "source": [
    "lr_model_2.std_coef_plot()"
   ]
  },
  {
   "cell_type": "code",
   "execution_count": 130,
   "metadata": {
    "scrolled": true
   },
   "outputs": [
    {
     "data": {
      "text/plain": [
       "[[0.4402139152243448, 0.986375892149088]]"
      ]
     },
     "execution_count": 130,
     "metadata": {},
     "output_type": "execute_result"
    }
   ],
   "source": [
    "lr_model_1._model_json['output']['coefficients_table']\n",
    "lr_perf_1 = lr_model_1.model_performance(test)\n",
    "#lr_perf_1\n",
    "lr_perf_1.accuracy()"
   ]
  },
  {
   "cell_type": "markdown",
   "metadata": {},
   "source": [
    "## Random forest model\n",
    "\n",
    "I am going to pick a random forest to predict conversion rate. \n",
    "\n",
    "I pick a random forest cause:\n",
    "1. it usually requires very little time to optimize it (its default params are often close to the best ones)\n",
    "2. it is strong with outliers, irrelevant variables, continuous and discrete variables. \n",
    "3. I can use its partial dependence plots and variable importance to get insights about how it got information from the variables. "
   ]
  },
  {
   "cell_type": "code",
   "execution_count": 85,
   "metadata": {},
   "outputs": [
    {
     "name": "stdout",
     "output_type": "stream",
     "text": [
      "drf Model Build progress: |███████████████████████████████████████████████| 100%\n"
     ]
    }
   ],
   "source": [
    "# Build random forest model\n",
    "model = H2ORandomForestEstimator(balance_classes=True, ntrees=100, max_depth=20, \n",
    "                                 mtries=-1, seed=42, score_each_iteration=True)\n",
    "model.train(x=feature, y=target, training_frame=train)"
   ]
  },
  {
   "cell_type": "code",
   "execution_count": 86,
   "metadata": {},
   "outputs": [
    {
     "data": {
      "image/png": "[encoded data removed]",
      "text/plain": [
       "<Figure size 1008x720 with 1 Axes>"
      ]
     },
     "metadata": {
      "needs_background": "light"
     },
     "output_type": "display_data"
    }
   ],
   "source": [
    "# feature importance \n",
    "perf = model.model_performance(test)\n",
    "perf"
   ]
  },
  {
   "cell_type": "markdown",
   "metadata": {},
   "source": [
    "Total pages visited is the most important one, by far. \n",
    "Unfortunately, it is probably the least “actionable”. People visit many pages cause they already want to buy. Also, in order to buy you have to click on multiple pages."
   ]
  },
  {
   "cell_type": "code",
   "execution_count": 87,
   "metadata": {},
   "outputs": [
    {
     "data": {
      "image/png": "[encoded data removed]",
      "text/plain": [
       "<Figure size 720x576 with 1 Axes>"
      ]
     },
     "metadata": {
      "needs_background": "light"
     },
     "output_type": "display_data"
    }
   ],
   "source": [
    "# Feature importance with color\n",
    "importance = model.varimp(use_pandas=True)\n",
    "\n",
    "fig, ax = plt.subplots(figsize=(10, 8))\n",
    "sns.barplot(x='scaled_importance', y='variable', data=importance)\n",
    "plt.show()"
   ]
  },
  {
   "cell_type": "code",
   "execution_count": 89,
   "metadata": {},
   "outputs": [
    {
     "name": "stdout",
     "output_type": "stream",
     "text": [
      "\n",
      "ModelMetricsBinomial: drf\n",
      "** Reported on test data. **\n",
      "\n",
      "MSE: 0.012732058132027504\n",
      "RMSE: 0.11283642201003852\n",
      "LogLoss: 0.05161657745255575\n",
      "Mean Per-Class Error: 0.08662425434520693\n",
      "AUC: 0.9762785118247694\n",
      "AUCPR: 0.7658677633267427\n",
      "Gini: 0.9525570236495389\n",
      "\n",
      "Confusion Matrix (Act/Pred) for max f1 @ threshold = 0.33728551602955564: \n"
     ]
    },
    {
     "data": {
      "text/html": [
       "<div>\n",
       "<style scoped>\n",
       "    .dataframe tbody tr th:only-of-type {\n",
       "        vertical-align: middle;\n",
       "    }\n",
       "\n",
       "    .dataframe tbody tr th {\n",
       "        vertical-align: top;\n",
       "    }\n",
       "\n",
       "    .dataframe thead th {\n",
       "        text-align: right;\n",
       "    }\n",
       "</style>\n",
       "<table border=\"1\" class=\"dataframe\">\n",
       "  <thead>\n",
       "    <tr style=\"text-align: right;\">\n",
       "      <th></th>\n",
       "      <th></th>\n",
       "      <th>0</th>\n",
       "      <th>1</th>\n",
       "      <th>Error</th>\n",
       "      <th>Rate</th>\n",
       "    </tr>\n",
       "  </thead>\n",
       "  <tbody>\n",
       "    <tr>\n",
       "      <th>0</th>\n",
       "      <td>0</td>\n",
       "      <td>60664.0</td>\n",
       "      <td>414.0</td>\n",
       "      <td>0.0068</td>\n",
       "      <td>(414.0/61078.0)</td>\n",
       "    </tr>\n",
       "    <tr>\n",
       "      <th>1</th>\n",
       "      <td>1</td>\n",
       "      <td>579.0</td>\n",
       "      <td>1393.0</td>\n",
       "      <td>0.2936</td>\n",
       "      <td>(579.0/1972.0)</td>\n",
       "    </tr>\n",
       "    <tr>\n",
       "      <th>2</th>\n",
       "      <td>Total</td>\n",
       "      <td>61243.0</td>\n",
       "      <td>1807.0</td>\n",
       "      <td>0.0157</td>\n",
       "      <td>(993.0/63050.0)</td>\n",
       "    </tr>\n",
       "  </tbody>\n",
       "</table>\n",
       "</div>"
      ],
      "text/plain": [
       "                0       1   Error              Rate\n",
       "0      0  60664.0   414.0  0.0068   (414.0/61078.0)\n",
       "1      1    579.0  1393.0  0.2936    (579.0/1972.0)\n",
       "2  Total  61243.0  1807.0  0.0157   (993.0/63050.0)"
      ]
     },
     "metadata": {},
     "output_type": "display_data"
    },
    {
     "name": "stdout",
     "output_type": "stream",
     "text": [
      "\n",
      "Maximum Metrics: Maximum metrics at their respective thresholds\n"
     ]
    },
    {
     "data": {
      "text/html": [
       "<div>\n",
       "<style scoped>\n",
       "    .dataframe tbody tr th:only-of-type {\n",
       "        vertical-align: middle;\n",
       "    }\n",
       "\n",
       "    .dataframe tbody tr th {\n",
       "        vertical-align: top;\n",
       "    }\n",
       "\n",
       "    .dataframe thead th {\n",
       "        text-align: right;\n",
       "    }\n",
       "</style>\n",
       "<table border=\"1\" class=\"dataframe\">\n",
       "  <thead>\n",
       "    <tr style=\"text-align: right;\">\n",
       "      <th></th>\n",
       "      <th>metric</th>\n",
       "      <th>threshold</th>\n",
       "      <th>value</th>\n",
       "      <th>idx</th>\n",
       "    </tr>\n",
       "  </thead>\n",
       "  <tbody>\n",
       "    <tr>\n",
       "      <th>0</th>\n",
       "      <td>max f1</td>\n",
       "      <td>0.337286</td>\n",
       "      <td>0.737232</td>\n",
       "      <td>196.0</td>\n",
       "    </tr>\n",
       "    <tr>\n",
       "      <th>1</th>\n",
       "      <td>max f2</td>\n",
       "      <td>0.151132</td>\n",
       "      <td>0.744028</td>\n",
       "      <td>259.0</td>\n",
       "    </tr>\n",
       "    <tr>\n",
       "      <th>2</th>\n",
       "      <td>max f0point5</td>\n",
       "      <td>0.486586</td>\n",
       "      <td>0.794185</td>\n",
       "      <td>151.0</td>\n",
       "    </tr>\n",
       "    <tr>\n",
       "      <th>3</th>\n",
       "      <td>max accuracy</td>\n",
       "      <td>0.462148</td>\n",
       "      <td>0.985155</td>\n",
       "      <td>159.0</td>\n",
       "    </tr>\n",
       "    <tr>\n",
       "      <th>4</th>\n",
       "      <td>max precision</td>\n",
       "      <td>0.994978</td>\n",
       "      <td>1.000000</td>\n",
       "      <td>0.0</td>\n",
       "    </tr>\n",
       "    <tr>\n",
       "      <th>5</th>\n",
       "      <td>max recall</td>\n",
       "      <td>0.000040</td>\n",
       "      <td>1.000000</td>\n",
       "      <td>399.0</td>\n",
       "    </tr>\n",
       "    <tr>\n",
       "      <th>6</th>\n",
       "      <td>max specificity</td>\n",
       "      <td>0.994978</td>\n",
       "      <td>1.000000</td>\n",
       "      <td>0.0</td>\n",
       "    </tr>\n",
       "    <tr>\n",
       "      <th>7</th>\n",
       "      <td>max absolute_mcc</td>\n",
       "      <td>0.462148</td>\n",
       "      <td>0.731846</td>\n",
       "      <td>159.0</td>\n",
       "    </tr>\n",
       "    <tr>\n",
       "      <th>8</th>\n",
       "      <td>max min_per_class_accuracy</td>\n",
       "      <td>0.010494</td>\n",
       "      <td>0.905334</td>\n",
       "      <td>361.0</td>\n",
       "    </tr>\n",
       "    <tr>\n",
       "      <th>9</th>\n",
       "      <td>max mean_per_class_accuracy</td>\n",
       "      <td>0.004121</td>\n",
       "      <td>0.913376</td>\n",
       "      <td>375.0</td>\n",
       "    </tr>\n",
       "    <tr>\n",
       "      <th>10</th>\n",
       "      <td>max tns</td>\n",
       "      <td>0.994978</td>\n",
       "      <td>61078.000000</td>\n",
       "      <td>0.0</td>\n",
       "    </tr>\n",
       "    <tr>\n",
       "      <th>11</th>\n",
       "      <td>max fns</td>\n",
       "      <td>0.994978</td>\n",
       "      <td>1969.000000</td>\n",
       "      <td>0.0</td>\n",
       "    </tr>\n",
       "    <tr>\n",
       "      <th>12</th>\n",
       "      <td>max fps</td>\n",
       "      <td>0.000040</td>\n",
       "      <td>61078.000000</td>\n",
       "      <td>399.0</td>\n",
       "    </tr>\n",
       "    <tr>\n",
       "      <th>13</th>\n",
       "      <td>max tps</td>\n",
       "      <td>0.000040</td>\n",
       "      <td>1972.000000</td>\n",
       "      <td>399.0</td>\n",
       "    </tr>\n",
       "    <tr>\n",
       "      <th>14</th>\n",
       "      <td>max tnr</td>\n",
       "      <td>0.994978</td>\n",
       "      <td>1.000000</td>\n",
       "      <td>0.0</td>\n",
       "    </tr>\n",
       "    <tr>\n",
       "      <th>15</th>\n",
       "      <td>max fnr</td>\n",
       "      <td>0.994978</td>\n",
       "      <td>0.998479</td>\n",
       "      <td>0.0</td>\n",
       "    </tr>\n",
       "    <tr>\n",
       "      <th>16</th>\n",
       "      <td>max fpr</td>\n",
       "      <td>0.000040</td>\n",
       "      <td>1.000000</td>\n",
       "      <td>399.0</td>\n",
       "    </tr>\n",
       "    <tr>\n",
       "      <th>17</th>\n",
       "      <td>max tpr</td>\n",
       "      <td>0.000040</td>\n",
       "      <td>1.000000</td>\n",
       "      <td>399.0</td>\n",
       "    </tr>\n",
       "  </tbody>\n",
       "</table>\n",
       "</div>"
      ],
      "text/plain": [
       "                         metric  threshold         value    idx\n",
       "0                        max f1   0.337286      0.737232  196.0\n",
       "1                        max f2   0.151132      0.744028  259.0\n",
       "2                  max f0point5   0.486586      0.794185  151.0\n",
       "3                  max accuracy   0.462148      0.985155  159.0\n",
       "4                 max precision   0.994978      1.000000    0.0\n",
       "5                    max recall   0.000040      1.000000  399.0\n",
       "6               max specificity   0.994978      1.000000    0.0\n",
       "7              max absolute_mcc   0.462148      0.731846  159.0\n",
       "8    max min_per_class_accuracy   0.010494      0.905334  361.0\n",
       "9   max mean_per_class_accuracy   0.004121      0.913376  375.0\n",
       "10                      max tns   0.994978  61078.000000    0.0\n",
       "11                      max fns   0.994978   1969.000000    0.0\n",
       "12                      max fps   0.000040  61078.000000  399.0\n",
       "13                      max tps   0.000040   1972.000000  399.0\n",
       "14                      max tnr   0.994978      1.000000    0.0\n",
       "15                      max fnr   0.994978      0.998479    0.0\n",
       "16                      max fpr   0.000040      1.000000  399.0\n",
       "17                      max tpr   0.000040      1.000000  399.0"
      ]
     },
     "metadata": {},
     "output_type": "display_data"
    },
    {
     "name": "stdout",
     "output_type": "stream",
     "text": [
      "\n",
      "Gains/Lift Table: Avg response rate:  3.13 %, avg score:  2.68 %\n"
     ]
    },
    {
     "data": {
      "text/html": [
       "<div>\n",
       "<style scoped>\n",
       "    .dataframe tbody tr th:only-of-type {\n",
       "        vertical-align: middle;\n",
       "    }\n",
       "\n",
       "    .dataframe tbody tr th {\n",
       "        vertical-align: top;\n",
       "    }\n",
       "\n",
       "    .dataframe thead th {\n",
       "        text-align: right;\n",
       "    }\n",
       "</style>\n",
       "<table border=\"1\" class=\"dataframe\">\n",
       "  <thead>\n",
       "    <tr style=\"text-align: right;\">\n",
       "      <th></th>\n",
       "      <th>group</th>\n",
       "      <th>cumulative_data_fraction</th>\n",
       "      <th>lower_threshold</th>\n",
       "      <th>lift</th>\n",
       "      <th>cumulative_lift</th>\n",
       "      <th>response_rate</th>\n",
       "      <th>score</th>\n",
       "      <th>cumulative_response_rate</th>\n",
       "      <th>cumulative_score</th>\n",
       "      <th>capture_rate</th>\n",
       "      <th>cumulative_capture_rate</th>\n",
       "      <th>gain</th>\n",
       "      <th>cumulative_gain</th>\n",
       "      <th>kolmogorov_smirnov</th>\n",
       "    </tr>\n",
       "  </thead>\n",
       "  <tbody>\n",
       "    <tr>\n",
       "      <th>0</th>\n",
       "      <td>1</td>\n",
       "      <td>0.010008</td>\n",
       "      <td>0.818145</td>\n",
       "      <td>29.692478</td>\n",
       "      <td>29.692478</td>\n",
       "      <td>0.928685</td>\n",
       "      <td>0.905881</td>\n",
       "      <td>0.928685</td>\n",
       "      <td>0.905881</td>\n",
       "      <td>0.297160</td>\n",
       "      <td>0.297160</td>\n",
       "      <td>2869.247757</td>\n",
       "      <td>2869.247757</td>\n",
       "      <td>0.296423</td>\n",
       "    </tr>\n",
       "    <tr>\n",
       "      <th>1</th>\n",
       "      <td>2</td>\n",
       "      <td>0.020000</td>\n",
       "      <td>0.586533</td>\n",
       "      <td>26.187096</td>\n",
       "      <td>27.941176</td>\n",
       "      <td>0.819048</td>\n",
       "      <td>0.708876</td>\n",
       "      <td>0.873910</td>\n",
       "      <td>0.807457</td>\n",
       "      <td>0.261663</td>\n",
       "      <td>0.558824</td>\n",
       "      <td>2518.709553</td>\n",
       "      <td>2694.117647</td>\n",
       "      <td>0.556220</td>\n",
       "    </tr>\n",
       "    <tr>\n",
       "      <th>2</th>\n",
       "      <td>3</td>\n",
       "      <td>0.030008</td>\n",
       "      <td>0.304510</td>\n",
       "      <td>15.960973</td>\n",
       "      <td>23.945665</td>\n",
       "      <td>0.499208</td>\n",
       "      <td>0.440817</td>\n",
       "      <td>0.748943</td>\n",
       "      <td>0.685179</td>\n",
       "      <td>0.159736</td>\n",
       "      <td>0.718560</td>\n",
       "      <td>1496.097344</td>\n",
       "      <td>2294.566478</td>\n",
       "      <td>0.710783</td>\n",
       "    </tr>\n",
       "    <tr>\n",
       "      <th>3</th>\n",
       "      <td>4</td>\n",
       "      <td>0.040063</td>\n",
       "      <td>0.151018</td>\n",
       "      <td>6.656759</td>\n",
       "      <td>19.606327</td>\n",
       "      <td>0.208202</td>\n",
       "      <td>0.215805</td>\n",
       "      <td>0.613222</td>\n",
       "      <td>0.567371</td>\n",
       "      <td>0.066937</td>\n",
       "      <td>0.785497</td>\n",
       "      <td>565.675930</td>\n",
       "      <td>1860.632746</td>\n",
       "      <td>0.769501</td>\n",
       "    </tr>\n",
       "    <tr>\n",
       "      <th>4</th>\n",
       "      <td>5</td>\n",
       "      <td>0.050056</td>\n",
       "      <td>0.089684</td>\n",
       "      <td>3.654013</td>\n",
       "      <td>16.421930</td>\n",
       "      <td>0.114286</td>\n",
       "      <td>0.112469</td>\n",
       "      <td>0.513625</td>\n",
       "      <td>0.476563</td>\n",
       "      <td>0.036511</td>\n",
       "      <td>0.822008</td>\n",
       "      <td>265.401333</td>\n",
       "      <td>1542.193015</td>\n",
       "      <td>0.796876</td>\n",
       "    </tr>\n",
       "    <tr>\n",
       "      <th>5</th>\n",
       "      <td>6</td>\n",
       "      <td>0.100143</td>\n",
       "      <td>0.017431</td>\n",
       "      <td>1.366784</td>\n",
       "      <td>8.891973</td>\n",
       "      <td>0.042749</td>\n",
       "      <td>0.040729</td>\n",
       "      <td>0.278112</td>\n",
       "      <td>0.258577</td>\n",
       "      <td>0.068458</td>\n",
       "      <td>0.890467</td>\n",
       "      <td>36.678380</td>\n",
       "      <td>789.197257</td>\n",
       "      <td>0.815841</td>\n",
       "    </tr>\n",
       "    <tr>\n",
       "      <th>6</th>\n",
       "      <td>7</td>\n",
       "      <td>0.150024</td>\n",
       "      <td>0.004922</td>\n",
       "      <td>1.169110</td>\n",
       "      <td>6.324217</td>\n",
       "      <td>0.036566</td>\n",
       "      <td>0.009693</td>\n",
       "      <td>0.197801</td>\n",
       "      <td>0.175826</td>\n",
       "      <td>0.058316</td>\n",
       "      <td>0.948783</td>\n",
       "      <td>16.910999</td>\n",
       "      <td>532.421670</td>\n",
       "      <td>0.824548</td>\n",
       "    </tr>\n",
       "    <tr>\n",
       "      <th>7</th>\n",
       "      <td>8</td>\n",
       "      <td>0.200333</td>\n",
       "      <td>0.001507</td>\n",
       "      <td>0.544301</td>\n",
       "      <td>4.872717</td>\n",
       "      <td>0.017024</td>\n",
       "      <td>0.002685</td>\n",
       "      <td>0.152403</td>\n",
       "      <td>0.132345</td>\n",
       "      <td>0.027383</td>\n",
       "      <td>0.976166</td>\n",
       "      <td>-45.569946</td>\n",
       "      <td>387.271689</td>\n",
       "      <td>0.800882</td>\n",
       "    </tr>\n",
       "    <tr>\n",
       "      <th>8</th>\n",
       "      <td>9</td>\n",
       "      <td>0.300095</td>\n",
       "      <td>0.000793</td>\n",
       "      <td>0.132160</td>\n",
       "      <td>3.296791</td>\n",
       "      <td>0.004134</td>\n",
       "      <td>0.001044</td>\n",
       "      <td>0.103113</td>\n",
       "      <td>0.088696</td>\n",
       "      <td>0.013185</td>\n",
       "      <td>0.989351</td>\n",
       "      <td>-86.783974</td>\n",
       "      <td>229.679061</td>\n",
       "      <td>0.711509</td>\n",
       "    </tr>\n",
       "    <tr>\n",
       "      <th>9</th>\n",
       "      <td>10</td>\n",
       "      <td>0.400539</td>\n",
       "      <td>0.000566</td>\n",
       "      <td>0.030291</td>\n",
       "      <td>2.477644</td>\n",
       "      <td>0.000947</td>\n",
       "      <td>0.000666</td>\n",
       "      <td>0.077493</td>\n",
       "      <td>0.066621</td>\n",
       "      <td>0.003043</td>\n",
       "      <td>0.992394</td>\n",
       "      <td>-96.970856</td>\n",
       "      <td>147.764357</td>\n",
       "      <td>0.610963</td>\n",
       "    </tr>\n",
       "    <tr>\n",
       "      <th>10</th>\n",
       "      <td>11</td>\n",
       "      <td>0.500222</td>\n",
       "      <td>0.000450</td>\n",
       "      <td>0.020349</td>\n",
       "      <td>1.987961</td>\n",
       "      <td>0.000636</td>\n",
       "      <td>0.000514</td>\n",
       "      <td>0.062177</td>\n",
       "      <td>0.053447</td>\n",
       "      <td>0.002028</td>\n",
       "      <td>0.994422</td>\n",
       "      <td>-97.965148</td>\n",
       "      <td>98.796098</td>\n",
       "      <td>0.510156</td>\n",
       "    </tr>\n",
       "    <tr>\n",
       "      <th>11</th>\n",
       "      <td>12</td>\n",
       "      <td>0.600111</td>\n",
       "      <td>0.000281</td>\n",
       "      <td>0.040613</td>\n",
       "      <td>1.663823</td>\n",
       "      <td>0.001270</td>\n",
       "      <td>0.000349</td>\n",
       "      <td>0.052039</td>\n",
       "      <td>0.044609</td>\n",
       "      <td>0.004057</td>\n",
       "      <td>0.998479</td>\n",
       "      <td>-95.938696</td>\n",
       "      <td>66.382330</td>\n",
       "      <td>0.411230</td>\n",
       "    </tr>\n",
       "    <tr>\n",
       "      <th>12</th>\n",
       "      <td>13</td>\n",
       "      <td>0.700222</td>\n",
       "      <td>0.000209</td>\n",
       "      <td>0.000000</td>\n",
       "      <td>1.425946</td>\n",
       "      <td>0.000000</td>\n",
       "      <td>0.000244</td>\n",
       "      <td>0.044599</td>\n",
       "      <td>0.038266</td>\n",
       "      <td>0.000000</td>\n",
       "      <td>0.998479</td>\n",
       "      <td>-100.000000</td>\n",
       "      <td>42.594582</td>\n",
       "      <td>0.307886</td>\n",
       "    </tr>\n",
       "    <tr>\n",
       "      <th>13</th>\n",
       "      <td>14</td>\n",
       "      <td>0.817161</td>\n",
       "      <td>0.000143</td>\n",
       "      <td>0.004336</td>\n",
       "      <td>1.222508</td>\n",
       "      <td>0.000136</td>\n",
       "      <td>0.000163</td>\n",
       "      <td>0.038236</td>\n",
       "      <td>0.032814</td>\n",
       "      <td>0.000507</td>\n",
       "      <td>0.998986</td>\n",
       "      <td>-99.566355</td>\n",
       "      <td>22.250795</td>\n",
       "      <td>0.187695</td>\n",
       "    </tr>\n",
       "    <tr>\n",
       "      <th>14</th>\n",
       "      <td>15</td>\n",
       "      <td>0.900206</td>\n",
       "      <td>0.000065</td>\n",
       "      <td>0.006106</td>\n",
       "      <td>1.110293</td>\n",
       "      <td>0.000191</td>\n",
       "      <td>0.000116</td>\n",
       "      <td>0.034726</td>\n",
       "      <td>0.029797</td>\n",
       "      <td>0.000507</td>\n",
       "      <td>0.999493</td>\n",
       "      <td>-99.389369</td>\n",
       "      <td>11.029330</td>\n",
       "      <td>0.102492</td>\n",
       "    </tr>\n",
       "    <tr>\n",
       "      <th>15</th>\n",
       "      <td>16</td>\n",
       "      <td>1.000000</td>\n",
       "      <td>0.000000</td>\n",
       "      <td>0.005081</td>\n",
       "      <td>1.000000</td>\n",
       "      <td>0.000159</td>\n",
       "      <td>0.000031</td>\n",
       "      <td>0.031277</td>\n",
       "      <td>0.026827</td>\n",
       "      <td>0.000507</td>\n",
       "      <td>1.000000</td>\n",
       "      <td>-99.491853</td>\n",
       "      <td>0.000000</td>\n",
       "      <td>0.000000</td>\n",
       "    </tr>\n",
       "  </tbody>\n",
       "</table>\n",
       "</div>"
      ],
      "text/plain": [
       "    group  cumulative_data_fraction  lower_threshold       lift  \\\n",
       "0       1                  0.010008         0.818145  29.692478   \n",
       "1       2                  0.020000         0.586533  26.187096   \n",
       "2       3                  0.030008         0.304510  15.960973   \n",
       "3       4                  0.040063         0.151018   6.656759   \n",
       "4       5                  0.050056         0.089684   3.654013   \n",
       "5       6                  0.100143         0.017431   1.366784   \n",
       "6       7                  0.150024         0.004922   1.169110   \n",
       "7       8                  0.200333         0.001507   0.544301   \n",
       "8       9                  0.300095         0.000793   0.132160   \n",
       "9      10                  0.400539         0.000566   0.030291   \n",
       "10     11                  0.500222         0.000450   0.020349   \n",
       "11     12                  0.600111         0.000281   0.040613   \n",
       "12     13                  0.700222         0.000209   0.000000   \n",
       "13     14                  0.817161         0.000143   0.004336   \n",
       "14     15                  0.900206         0.000065   0.006106   \n",
       "15     16                  1.000000         0.000000   0.005081   \n",
       "\n",
       "    cumulative_lift  response_rate     score  cumulative_response_rate  \\\n",
       "0         29.692478       0.928685  0.905881                  0.928685   \n",
       "1         27.941176       0.819048  0.708876                  0.873910   \n",
       "2         23.945665       0.499208  0.440817                  0.748943   \n",
       "3         19.606327       0.208202  0.215805                  0.613222   \n",
       "4         16.421930       0.114286  0.112469                  0.513625   \n",
       "5          8.891973       0.042749  0.040729                  0.278112   \n",
       "6          6.324217       0.036566  0.009693                  0.197801   \n",
       "7          4.872717       0.017024  0.002685                  0.152403   \n",
       "8          3.296791       0.004134  0.001044                  0.103113   \n",
       "9          2.477644       0.000947  0.000666                  0.077493   \n",
       "10         1.987961       0.000636  0.000514                  0.062177   \n",
       "11         1.663823       0.001270  0.000349                  0.052039   \n",
       "12         1.425946       0.000000  0.000244                  0.044599   \n",
       "13         1.222508       0.000136  0.000163                  0.038236   \n",
       "14         1.110293       0.000191  0.000116                  0.034726   \n",
       "15         1.000000       0.000159  0.000031                  0.031277   \n",
       "\n",
       "    cumulative_score  capture_rate  cumulative_capture_rate         gain  \\\n",
       "0           0.905881      0.297160                 0.297160  2869.247757   \n",
       "1           0.807457      0.261663                 0.558824  2518.709553   \n",
       "2           0.685179      0.159736                 0.718560  1496.097344   \n",
       "3           0.567371      0.066937                 0.785497   565.675930   \n",
       "4           0.476563      0.036511                 0.822008   265.401333   \n",
       "5           0.258577      0.068458                 0.890467    36.678380   \n",
       "6           0.175826      0.058316                 0.948783    16.910999   \n",
       "7           0.132345      0.027383                 0.976166   -45.569946   \n",
       "8           0.088696      0.013185                 0.989351   -86.783974   \n",
       "9           0.066621      0.003043                 0.992394   -96.970856   \n",
       "10          0.053447      0.002028                 0.994422   -97.965148   \n",
       "11          0.044609      0.004057                 0.998479   -95.938696   \n",
       "12          0.038266      0.000000                 0.998479  -100.000000   \n",
       "13          0.032814      0.000507                 0.998986   -99.566355   \n",
       "14          0.029797      0.000507                 0.999493   -99.389369   \n",
       "15          0.026827      0.000507                 1.000000   -99.491853   \n",
       "\n",
       "    cumulative_gain  kolmogorov_smirnov  \n",
       "0       2869.247757            0.296423  \n",
       "1       2694.117647            0.556220  \n",
       "2       2294.566478            0.710783  \n",
       "3       1860.632746            0.769501  \n",
       "4       1542.193015            0.796876  \n",
       "5        789.197257            0.815841  \n",
       "6        532.421670            0.824548  \n",
       "7        387.271689            0.800882  \n",
       "8        229.679061            0.711509  \n",
       "9        147.764357            0.610963  \n",
       "10        98.796098            0.510156  \n",
       "11        66.382330            0.411230  \n",
       "12        42.594582            0.307886  \n",
       "13        22.250795            0.187695  \n",
       "14        11.029330            0.102492  \n",
       "15         0.000000            0.000000  "
      ]
     },
     "metadata": {},
     "output_type": "display_data"
    },
    {
     "name": "stdout",
     "output_type": "stream",
     "text": [
      "\n"
     ]
    },
    {
     "data": {
      "text/plain": []
     },
     "execution_count": 89,
     "metadata": {},
     "output_type": "execute_result"
    }
   ],
   "source": [
    "# retrive model performance\n",
    "perf = model.model_performance(test)\n",
    "perf"
   ]
  },
  {
   "cell_type": "markdown",
   "metadata": {},
   "source": [
    "1. Test error is low 1.6% so we are not overfitting.\n",
    "2. If we cared about the very best possible accuracy or specifically minimizing false positive/false negative, we would also use ROCR and find the best cut-off point (threshold)"
   ]
  },
  {
   "cell_type": "code",
   "execution_count": 90,
   "metadata": {},
   "outputs": [
    {
     "data": {
      "text/plain": [
       "[[0.33728551602955564, 0.7372320719767133]]"
      ]
     },
     "execution_count": 90,
     "metadata": {},
     "output_type": "execute_result"
    }
   ],
   "source": [
    "perf.F1()"
   ]
  },
  {
   "cell_type": "code",
   "execution_count": 91,
   "metadata": {},
   "outputs": [
    {
     "data": {
      "text/plain": [
       "[[0.46214822180077075, 0.9851546391752577]]"
      ]
     },
     "execution_count": 91,
     "metadata": {},
     "output_type": "execute_result"
    }
   ],
   "source": [
    "perf.accuracy()"
   ]
  },
  {
   "cell_type": "markdown",
   "metadata": {},
   "source": [
    "We started from a 96.8% accuracy (that’s the case if we classified everything as “non converted”).\n",
    "\n",
    "So, 98.5% is good, but nothing shocking. "
   ]
  },
  {
   "cell_type": "code",
   "execution_count": 92,
   "metadata": {},
   "outputs": [
    {
     "data": {
      "text/plain": [
       "0.9762785118247694"
      ]
     },
     "execution_count": 92,
     "metadata": {},
     "output_type": "execute_result"
    }
   ],
   "source": [
    "perf.auc()"
   ]
  },
  {
   "cell_type": "code",
   "execution_count": 93,
   "metadata": {
    "scrolled": true
   },
   "outputs": [
    {
     "data": {
      "image/png": "[encoded data removed]",
      "text/plain": [
       "<Figure size 432x288 with 1 Axes>"
      ]
     },
     "metadata": {
      "needs_background": "light"
     },
     "output_type": "display_data"
    }
   ],
   "source": [
    "perf.plot(type = \"roc\")"
   ]
  },
  {
   "cell_type": "code",
   "execution_count": 212,
   "metadata": {},
   "outputs": [
    {
     "name": "stdout",
     "output_type": "stream",
     "text": [
      "H2O session _sid_8ca9 closed.\n"
     ]
    }
   ],
   "source": [
    "# Shutdown h2o instance\n",
    "h2o.cluster().shutdown()"
   ]
  },
  {
   "cell_type": "markdown",
   "metadata": {},
   "source": [
    "# Conclusions & suggestions:\n",
    "1. The site is working very well for young users. Definitely let’s tell marketing to advertise and use\n",
    "marketing channel which are more likely to reach young people.\n",
    "2. The site is working very well for Germany in terms of conversion. But the summary showed that\n",
    "there are few Germans coming to the site: way less than UK, despite a larger population. Again,\n",
    "marketing should get more Germans. Big opportunity.\n",
    "3. Users with old accounts do much better. Targeted emails with offers to bring them back to the site\n",
    "could be a good idea to try.\n",
    "4. Something is wrong with the Chinese version of the site. It is either poorly translated, doesn’t fit the\n",
    "local culture, some payment issue or maybe it is just in English! Given how many users are based in\n",
    "China, fixing this should be a top priority. Huge opportunity.\n",
    "5. Maybe go through the UI and figure out why older users perform so poorly? From 30 y/o conversion\n",
    "clearly starts dropping.\n",
    "6. If I know someone has visited many pages, but hasn’t converted, she almost surely has high\n",
    "purchase intent. I could email her targeted offers or sending her reminders. Overall, these are\n",
    "probably the easiest users to make convert.\n",
    "\n",
    "\n",
    "As you can see, conclusions usually end up being about:\n",
    "1. tell marketing to get more of the good performing user segments\n",
    "2. tell product to fix the experience for the bad performing ones"
   ]
  }
 ],
 "metadata": {
  "kernelspec": {
   "display_name": "py37",
   "language": "python",
   "name": "py37"
  },
  "language_info": {
   "codemirror_mode": {
    "name": "ipython",
    "version": 3
   },
   "file_extension": ".py",
   "mimetype": "text/x-python",
   "name": "python",
   "nbconvert_exporter": "python",
   "pygments_lexer": "ipython3",
   "version": "3.7.6"
  },
  "toc": {
   "base_numbering": "1",
   "nav_menu": {},
   "number_sections": true,
   "sideBar": true,
   "skip_h1_title": false,
   "title_cell": "Table of Contents",
   "title_sidebar": "Contents",
   "toc_cell": false,
   "toc_position": {
    "height": "calc(100% - 180px)",
    "left": "10px",
    "top": "150px",
    "width": "244px"
   },
   "toc_section_display": true,
   "toc_window_display": true
  }
 },
 "nbformat": 4,
 "nbformat_minor": 2
}
